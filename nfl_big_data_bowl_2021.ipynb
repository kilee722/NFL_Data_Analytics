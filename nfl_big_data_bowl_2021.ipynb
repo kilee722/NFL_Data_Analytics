{
  "nbformat": 4,
  "nbformat_minor": 0,
  "metadata": {
    "colab": {
      "name": "nfl-big-data-bowl-2021",
      "provenance": [],
      "collapsed_sections": [],
      "include_colab_link": true
    },
    "kernelspec": {
      "name": "python3",
      "display_name": "Python 3"
    }
  },
  "cells": [
    {
      "cell_type": "markdown",
      "metadata": {
        "id": "view-in-github",
        "colab_type": "text"
      },
      "source": [
        "<a href=\"https://colab.research.google.com/github/kilee722/NFL_Data_Analytics/blob/main/nfl_big_data_bowl_2021.ipynb\" target=\"_parent\"><img src=\"https://colab.research.google.com/assets/colab-badge.svg\" alt=\"Open In Colab\"/></a>"
      ]
    },
    {
      "cell_type": "code",
      "metadata": {
        "id": "t6LNh3syKk7f"
      },
      "source": [
        "import pandas as pd\r\n",
        "import matplotlib.ticker as ticker\r\n",
        "import numpy as np\r\n",
        "import seaborn as sns\r\n",
        "import matplotlib as plt"
      ],
      "execution_count": null,
      "outputs": []
    },
    {
      "cell_type": "code",
      "metadata": {
        "colab": {
          "base_uri": "https://localhost:8080/",
          "height": 415
        },
        "id": "vuevBDRJGYBW",
        "outputId": "b97ca57b-b871-46f8-c360-a4de05bc4b5f"
      },
      "source": [
        "games = pd.read_parquet('https://github.com/kilee722/NFL_Data_Analytics/raw/main/data/games.parquet.gzip')\n",
        "\n",
        "games"
      ],
      "execution_count": null,
      "outputs": [
        {
          "output_type": "execute_result",
          "data": {
            "text/html": [
              "<div>\n",
              "<style scoped>\n",
              "    .dataframe tbody tr th:only-of-type {\n",
              "        vertical-align: middle;\n",
              "    }\n",
              "\n",
              "    .dataframe tbody tr th {\n",
              "        vertical-align: top;\n",
              "    }\n",
              "\n",
              "    .dataframe thead th {\n",
              "        text-align: right;\n",
              "    }\n",
              "</style>\n",
              "<table border=\"1\" class=\"dataframe\">\n",
              "  <thead>\n",
              "    <tr style=\"text-align: right;\">\n",
              "      <th></th>\n",
              "      <th>gameId</th>\n",
              "      <th>gameDate</th>\n",
              "      <th>gameTimeEastern</th>\n",
              "      <th>homeTeamAbbr</th>\n",
              "      <th>visitorTeamAbbr</th>\n",
              "      <th>week</th>\n",
              "    </tr>\n",
              "  </thead>\n",
              "  <tbody>\n",
              "    <tr>\n",
              "      <th>0</th>\n",
              "      <td>2018090600</td>\n",
              "      <td>09/06/2018</td>\n",
              "      <td>20:20:00</td>\n",
              "      <td>PHI</td>\n",
              "      <td>ATL</td>\n",
              "      <td>1</td>\n",
              "    </tr>\n",
              "    <tr>\n",
              "      <th>1</th>\n",
              "      <td>2018090901</td>\n",
              "      <td>09/09/2018</td>\n",
              "      <td>13:00:00</td>\n",
              "      <td>CLE</td>\n",
              "      <td>PIT</td>\n",
              "      <td>1</td>\n",
              "    </tr>\n",
              "    <tr>\n",
              "      <th>2</th>\n",
              "      <td>2018090902</td>\n",
              "      <td>09/09/2018</td>\n",
              "      <td>13:00:00</td>\n",
              "      <td>IND</td>\n",
              "      <td>CIN</td>\n",
              "      <td>1</td>\n",
              "    </tr>\n",
              "    <tr>\n",
              "      <th>3</th>\n",
              "      <td>2018090903</td>\n",
              "      <td>09/09/2018</td>\n",
              "      <td>13:00:00</td>\n",
              "      <td>MIA</td>\n",
              "      <td>TEN</td>\n",
              "      <td>1</td>\n",
              "    </tr>\n",
              "    <tr>\n",
              "      <th>4</th>\n",
              "      <td>2018090900</td>\n",
              "      <td>09/09/2018</td>\n",
              "      <td>13:00:00</td>\n",
              "      <td>BAL</td>\n",
              "      <td>BUF</td>\n",
              "      <td>1</td>\n",
              "    </tr>\n",
              "    <tr>\n",
              "      <th>...</th>\n",
              "      <td>...</td>\n",
              "      <td>...</td>\n",
              "      <td>...</td>\n",
              "      <td>...</td>\n",
              "      <td>...</td>\n",
              "      <td>...</td>\n",
              "    </tr>\n",
              "    <tr>\n",
              "      <th>248</th>\n",
              "      <td>2018123013</td>\n",
              "      <td>12/30/2018</td>\n",
              "      <td>16:25:00</td>\n",
              "      <td>DEN</td>\n",
              "      <td>LAC</td>\n",
              "      <td>17</td>\n",
              "    </tr>\n",
              "    <tr>\n",
              "      <th>249</th>\n",
              "      <td>2018123015</td>\n",
              "      <td>12/30/2018</td>\n",
              "      <td>16:25:00</td>\n",
              "      <td>SEA</td>\n",
              "      <td>ARI</td>\n",
              "      <td>17</td>\n",
              "    </tr>\n",
              "    <tr>\n",
              "      <th>250</th>\n",
              "      <td>2018123014</td>\n",
              "      <td>12/30/2018</td>\n",
              "      <td>16:25:00</td>\n",
              "      <td>LA</td>\n",
              "      <td>SF</td>\n",
              "      <td>17</td>\n",
              "    </tr>\n",
              "    <tr>\n",
              "      <th>251</th>\n",
              "      <td>2018122200</td>\n",
              "      <td>12/22/2018</td>\n",
              "      <td>16:30:00</td>\n",
              "      <td>TEN</td>\n",
              "      <td>WAS</td>\n",
              "      <td>16</td>\n",
              "    </tr>\n",
              "    <tr>\n",
              "      <th>252</th>\n",
              "      <td>2018122201</td>\n",
              "      <td>12/22/2018</td>\n",
              "      <td>20:20:00</td>\n",
              "      <td>LAC</td>\n",
              "      <td>BAL</td>\n",
              "      <td>16</td>\n",
              "    </tr>\n",
              "  </tbody>\n",
              "</table>\n",
              "<p>253 rows × 6 columns</p>\n",
              "</div>"
            ],
            "text/plain": [
              "         gameId    gameDate gameTimeEastern homeTeamAbbr visitorTeamAbbr  week\n",
              "0    2018090600  09/06/2018        20:20:00          PHI             ATL     1\n",
              "1    2018090901  09/09/2018        13:00:00          CLE             PIT     1\n",
              "2    2018090902  09/09/2018        13:00:00          IND             CIN     1\n",
              "3    2018090903  09/09/2018        13:00:00          MIA             TEN     1\n",
              "4    2018090900  09/09/2018        13:00:00          BAL             BUF     1\n",
              "..          ...         ...             ...          ...             ...   ...\n",
              "248  2018123013  12/30/2018        16:25:00          DEN             LAC    17\n",
              "249  2018123015  12/30/2018        16:25:00          SEA             ARI    17\n",
              "250  2018123014  12/30/2018        16:25:00           LA              SF    17\n",
              "251  2018122200  12/22/2018        16:30:00          TEN             WAS    16\n",
              "252  2018122201  12/22/2018        20:20:00          LAC             BAL    16\n",
              "\n",
              "[253 rows x 6 columns]"
            ]
          },
          "metadata": {
            "tags": []
          },
          "execution_count": 3
        }
      ]
    },
    {
      "cell_type": "code",
      "metadata": {
        "id": "rH3YUrvCG_xV",
        "colab": {
          "base_uri": "https://localhost:8080/",
          "height": 294
        },
        "outputId": "a19bdb73-3737-478b-ef87-3b1ead6ffc3b"
      },
      "source": [
        "games.describe()"
      ],
      "execution_count": null,
      "outputs": [
        {
          "output_type": "execute_result",
          "data": {
            "text/html": [
              "<div>\n",
              "<style scoped>\n",
              "    .dataframe tbody tr th:only-of-type {\n",
              "        vertical-align: middle;\n",
              "    }\n",
              "\n",
              "    .dataframe tbody tr th {\n",
              "        vertical-align: top;\n",
              "    }\n",
              "\n",
              "    .dataframe thead th {\n",
              "        text-align: right;\n",
              "    }\n",
              "</style>\n",
              "<table border=\"1\" class=\"dataframe\">\n",
              "  <thead>\n",
              "    <tr style=\"text-align: right;\">\n",
              "      <th></th>\n",
              "      <th>gameId</th>\n",
              "      <th>week</th>\n",
              "    </tr>\n",
              "  </thead>\n",
              "  <tbody>\n",
              "    <tr>\n",
              "      <th>count</th>\n",
              "      <td>2.530000e+02</td>\n",
              "      <td>253.000000</td>\n",
              "    </tr>\n",
              "    <tr>\n",
              "      <th>mean</th>\n",
              "      <td>2.018108e+09</td>\n",
              "      <td>9.122530</td>\n",
              "    </tr>\n",
              "    <tr>\n",
              "      <th>std</th>\n",
              "      <td>1.144901e+04</td>\n",
              "      <td>4.979801</td>\n",
              "    </tr>\n",
              "    <tr>\n",
              "      <th>min</th>\n",
              "      <td>2.018091e+09</td>\n",
              "      <td>1.000000</td>\n",
              "    </tr>\n",
              "    <tr>\n",
              "      <th>25%</th>\n",
              "      <td>2.018101e+09</td>\n",
              "      <td>5.000000</td>\n",
              "    </tr>\n",
              "    <tr>\n",
              "      <th>50%</th>\n",
              "      <td>2.018110e+09</td>\n",
              "      <td>9.000000</td>\n",
              "    </tr>\n",
              "    <tr>\n",
              "      <th>75%</th>\n",
              "      <td>2.018121e+09</td>\n",
              "      <td>14.000000</td>\n",
              "    </tr>\n",
              "    <tr>\n",
              "      <th>max</th>\n",
              "      <td>2.018123e+09</td>\n",
              "      <td>17.000000</td>\n",
              "    </tr>\n",
              "  </tbody>\n",
              "</table>\n",
              "</div>"
            ],
            "text/plain": [
              "             gameId        week\n",
              "count  2.530000e+02  253.000000\n",
              "mean   2.018108e+09    9.122530\n",
              "std    1.144901e+04    4.979801\n",
              "min    2.018091e+09    1.000000\n",
              "25%    2.018101e+09    5.000000\n",
              "50%    2.018110e+09    9.000000\n",
              "75%    2.018121e+09   14.000000\n",
              "max    2.018123e+09   17.000000"
            ]
          },
          "metadata": {
            "tags": []
          },
          "execution_count": 4
        }
      ]
    },
    {
      "cell_type": "code",
      "metadata": {
        "colab": {
          "base_uri": "https://localhost:8080/",
          "height": 415
        },
        "id": "JYG9da3lKd-3",
        "outputId": "c7c5e42d-8f3d-4cc8-823b-60bbf0155779"
      },
      "source": [
        "players = pd.read_parquet('https://github.com/kilee722/NFL_Data_Analytics/raw/main/data/players.parquet.gzip')\r\n",
        "\r\n",
        "players"
      ],
      "execution_count": null,
      "outputs": [
        {
          "output_type": "execute_result",
          "data": {
            "text/html": [
              "<div>\n",
              "<style scoped>\n",
              "    .dataframe tbody tr th:only-of-type {\n",
              "        vertical-align: middle;\n",
              "    }\n",
              "\n",
              "    .dataframe tbody tr th {\n",
              "        vertical-align: top;\n",
              "    }\n",
              "\n",
              "    .dataframe thead th {\n",
              "        text-align: right;\n",
              "    }\n",
              "</style>\n",
              "<table border=\"1\" class=\"dataframe\">\n",
              "  <thead>\n",
              "    <tr style=\"text-align: right;\">\n",
              "      <th></th>\n",
              "      <th>nflId</th>\n",
              "      <th>height</th>\n",
              "      <th>weight</th>\n",
              "      <th>birthDate</th>\n",
              "      <th>collegeName</th>\n",
              "      <th>position</th>\n",
              "      <th>displayName</th>\n",
              "    </tr>\n",
              "  </thead>\n",
              "  <tbody>\n",
              "    <tr>\n",
              "      <th>0</th>\n",
              "      <td>2539334</td>\n",
              "      <td>72</td>\n",
              "      <td>190</td>\n",
              "      <td>1990-09-10</td>\n",
              "      <td>Washington</td>\n",
              "      <td>CB</td>\n",
              "      <td>Desmond Trufant</td>\n",
              "    </tr>\n",
              "    <tr>\n",
              "      <th>1</th>\n",
              "      <td>2539653</td>\n",
              "      <td>70</td>\n",
              "      <td>186</td>\n",
              "      <td>1988-11-01</td>\n",
              "      <td>Southeastern Louisiana</td>\n",
              "      <td>CB</td>\n",
              "      <td>Robert Alford</td>\n",
              "    </tr>\n",
              "    <tr>\n",
              "      <th>2</th>\n",
              "      <td>2543850</td>\n",
              "      <td>69</td>\n",
              "      <td>186</td>\n",
              "      <td>1991-12-18</td>\n",
              "      <td>Purdue</td>\n",
              "      <td>SS</td>\n",
              "      <td>Ricardo Allen</td>\n",
              "    </tr>\n",
              "    <tr>\n",
              "      <th>3</th>\n",
              "      <td>2555162</td>\n",
              "      <td>73</td>\n",
              "      <td>227</td>\n",
              "      <td>1994-11-04</td>\n",
              "      <td>Louisiana State</td>\n",
              "      <td>MLB</td>\n",
              "      <td>Deion Jones</td>\n",
              "    </tr>\n",
              "    <tr>\n",
              "      <th>4</th>\n",
              "      <td>2555255</td>\n",
              "      <td>75</td>\n",
              "      <td>232</td>\n",
              "      <td>1993-07-01</td>\n",
              "      <td>Minnesota</td>\n",
              "      <td>OLB</td>\n",
              "      <td>De'Vondre Campbell</td>\n",
              "    </tr>\n",
              "    <tr>\n",
              "      <th>...</th>\n",
              "      <td>...</td>\n",
              "      <td>...</td>\n",
              "      <td>...</td>\n",
              "      <td>...</td>\n",
              "      <td>...</td>\n",
              "      <td>...</td>\n",
              "      <td>...</td>\n",
              "    </tr>\n",
              "    <tr>\n",
              "      <th>1298</th>\n",
              "      <td>2553798</td>\n",
              "      <td>6-2</td>\n",
              "      <td>235</td>\n",
              "      <td>09/17/1991</td>\n",
              "      <td>Vanderbilt</td>\n",
              "      <td>LS</td>\n",
              "      <td>Andrew East</td>\n",
              "    </tr>\n",
              "    <tr>\n",
              "      <th>1299</th>\n",
              "      <td>2556814</td>\n",
              "      <td>6-2</td>\n",
              "      <td>200</td>\n",
              "      <td>05/17/1994</td>\n",
              "      <td>Duke</td>\n",
              "      <td>WR</td>\n",
              "      <td>Max McCaffrey</td>\n",
              "    </tr>\n",
              "    <tr>\n",
              "      <th>1300</th>\n",
              "      <td>2552576</td>\n",
              "      <td>78</td>\n",
              "      <td>231</td>\n",
              "      <td>1992-04-25</td>\n",
              "      <td>Oregon State</td>\n",
              "      <td>QB</td>\n",
              "      <td>Sean Mannion</td>\n",
              "    </tr>\n",
              "    <tr>\n",
              "      <th>1301</th>\n",
              "      <td>2561469</td>\n",
              "      <td>69</td>\n",
              "      <td>187</td>\n",
              "      <td>1993-03-15</td>\n",
              "      <td>Alabama-Birmingham</td>\n",
              "      <td>CB</td>\n",
              "      <td>Darious Williams</td>\n",
              "    </tr>\n",
              "    <tr>\n",
              "      <th>1302</th>\n",
              "      <td>2558095</td>\n",
              "      <td>6-2</td>\n",
              "      <td>196</td>\n",
              "      <td>10/12/1995</td>\n",
              "      <td>LSU</td>\n",
              "      <td>WR</td>\n",
              "      <td>Malachi Dupre</td>\n",
              "    </tr>\n",
              "  </tbody>\n",
              "</table>\n",
              "<p>1303 rows × 7 columns</p>\n",
              "</div>"
            ],
            "text/plain": [
              "        nflId height  ...  position         displayName\n",
              "0     2539334     72  ...        CB     Desmond Trufant\n",
              "1     2539653     70  ...        CB       Robert Alford\n",
              "2     2543850     69  ...        SS       Ricardo Allen\n",
              "3     2555162     73  ...       MLB         Deion Jones\n",
              "4     2555255     75  ...       OLB  De'Vondre Campbell\n",
              "...       ...    ...  ...       ...                 ...\n",
              "1298  2553798    6-2  ...        LS         Andrew East\n",
              "1299  2556814    6-2  ...        WR       Max McCaffrey\n",
              "1300  2552576     78  ...        QB        Sean Mannion\n",
              "1301  2561469     69  ...        CB    Darious Williams\n",
              "1302  2558095    6-2  ...        WR       Malachi Dupre\n",
              "\n",
              "[1303 rows x 7 columns]"
            ]
          },
          "metadata": {
            "tags": []
          },
          "execution_count": 5
        }
      ]
    },
    {
      "cell_type": "code",
      "metadata": {
        "colab": {
          "base_uri": "https://localhost:8080/",
          "height": 782
        },
        "id": "hqPJitbAKoKy",
        "outputId": "3f81fb63-74d6-460d-f86e-d2f45da94012"
      },
      "source": [
        "plays = pd.read_parquet('https://github.com/kilee722/NFL_Data_Analytics/raw/main/data/plays.parquet.gzip')\r\n",
        "\r\n",
        "plays"
      ],
      "execution_count": null,
      "outputs": [
        {
          "output_type": "execute_result",
          "data": {
            "text/html": [
              "<div>\n",
              "<style scoped>\n",
              "    .dataframe tbody tr th:only-of-type {\n",
              "        vertical-align: middle;\n",
              "    }\n",
              "\n",
              "    .dataframe tbody tr th {\n",
              "        vertical-align: top;\n",
              "    }\n",
              "\n",
              "    .dataframe thead th {\n",
              "        text-align: right;\n",
              "    }\n",
              "</style>\n",
              "<table border=\"1\" class=\"dataframe\">\n",
              "  <thead>\n",
              "    <tr style=\"text-align: right;\">\n",
              "      <th></th>\n",
              "      <th>gameId</th>\n",
              "      <th>playId</th>\n",
              "      <th>playDescription</th>\n",
              "      <th>quarter</th>\n",
              "      <th>down</th>\n",
              "      <th>yardsToGo</th>\n",
              "      <th>possessionTeam</th>\n",
              "      <th>playType</th>\n",
              "      <th>yardlineSide</th>\n",
              "      <th>yardlineNumber</th>\n",
              "      <th>offenseFormation</th>\n",
              "      <th>personnelO</th>\n",
              "      <th>defendersInTheBox</th>\n",
              "      <th>numberOfPassRushers</th>\n",
              "      <th>personnelD</th>\n",
              "      <th>typeDropback</th>\n",
              "      <th>preSnapVisitorScore</th>\n",
              "      <th>preSnapHomeScore</th>\n",
              "      <th>gameClock</th>\n",
              "      <th>absoluteYardlineNumber</th>\n",
              "      <th>penaltyCodes</th>\n",
              "      <th>penaltyJerseyNumbers</th>\n",
              "      <th>passResult</th>\n",
              "      <th>offensePlayResult</th>\n",
              "      <th>playResult</th>\n",
              "      <th>epa</th>\n",
              "      <th>isDefensivePI</th>\n",
              "    </tr>\n",
              "  </thead>\n",
              "  <tbody>\n",
              "    <tr>\n",
              "      <th>0</th>\n",
              "      <td>2018090600</td>\n",
              "      <td>75</td>\n",
              "      <td>(15:00) M.Ryan pass short right to J.Jones pus...</td>\n",
              "      <td>1</td>\n",
              "      <td>1</td>\n",
              "      <td>15</td>\n",
              "      <td>ATL</td>\n",
              "      <td>play_type_pass</td>\n",
              "      <td>ATL</td>\n",
              "      <td>20</td>\n",
              "      <td>I_FORM</td>\n",
              "      <td>2 RB, 1 TE, 2 WR</td>\n",
              "      <td>7.0</td>\n",
              "      <td>4.0</td>\n",
              "      <td>4 DL, 2 LB, 5 DB</td>\n",
              "      <td>TRADITIONAL</td>\n",
              "      <td>0.0</td>\n",
              "      <td>0.0</td>\n",
              "      <td>15:00:00</td>\n",
              "      <td>90.0</td>\n",
              "      <td>None</td>\n",
              "      <td>None</td>\n",
              "      <td>C</td>\n",
              "      <td>10</td>\n",
              "      <td>10</td>\n",
              "      <td>0.261827</td>\n",
              "      <td>False</td>\n",
              "    </tr>\n",
              "    <tr>\n",
              "      <th>1</th>\n",
              "      <td>2018090600</td>\n",
              "      <td>146</td>\n",
              "      <td>(13:10) M.Ryan pass incomplete short right to ...</td>\n",
              "      <td>1</td>\n",
              "      <td>1</td>\n",
              "      <td>10</td>\n",
              "      <td>ATL</td>\n",
              "      <td>play_type_pass</td>\n",
              "      <td>PHI</td>\n",
              "      <td>39</td>\n",
              "      <td>SINGLEBACK</td>\n",
              "      <td>1 RB, 1 TE, 3 WR</td>\n",
              "      <td>7.0</td>\n",
              "      <td>4.0</td>\n",
              "      <td>4 DL, 2 LB, 5 DB</td>\n",
              "      <td>TRADITIONAL</td>\n",
              "      <td>0.0</td>\n",
              "      <td>0.0</td>\n",
              "      <td>13:10:00</td>\n",
              "      <td>49.0</td>\n",
              "      <td>None</td>\n",
              "      <td>None</td>\n",
              "      <td>I</td>\n",
              "      <td>0</td>\n",
              "      <td>0</td>\n",
              "      <td>-0.372360</td>\n",
              "      <td>False</td>\n",
              "    </tr>\n",
              "    <tr>\n",
              "      <th>2</th>\n",
              "      <td>2018090600</td>\n",
              "      <td>168</td>\n",
              "      <td>(13:05) (Shotgun) M.Ryan pass incomplete short...</td>\n",
              "      <td>1</td>\n",
              "      <td>2</td>\n",
              "      <td>10</td>\n",
              "      <td>ATL</td>\n",
              "      <td>play_type_pass</td>\n",
              "      <td>PHI</td>\n",
              "      <td>39</td>\n",
              "      <td>SHOTGUN</td>\n",
              "      <td>2 RB, 1 TE, 2 WR</td>\n",
              "      <td>6.0</td>\n",
              "      <td>4.0</td>\n",
              "      <td>4 DL, 2 LB, 5 DB</td>\n",
              "      <td>TRADITIONAL</td>\n",
              "      <td>0.0</td>\n",
              "      <td>0.0</td>\n",
              "      <td>13:05:00</td>\n",
              "      <td>49.0</td>\n",
              "      <td>None</td>\n",
              "      <td>None</td>\n",
              "      <td>I</td>\n",
              "      <td>0</td>\n",
              "      <td>0</td>\n",
              "      <td>-0.702779</td>\n",
              "      <td>False</td>\n",
              "    </tr>\n",
              "    <tr>\n",
              "      <th>3</th>\n",
              "      <td>2018090600</td>\n",
              "      <td>190</td>\n",
              "      <td>(13:01) (Shotgun) M.Ryan pass deep left to J.J...</td>\n",
              "      <td>1</td>\n",
              "      <td>3</td>\n",
              "      <td>10</td>\n",
              "      <td>ATL</td>\n",
              "      <td>play_type_pass</td>\n",
              "      <td>PHI</td>\n",
              "      <td>39</td>\n",
              "      <td>SHOTGUN</td>\n",
              "      <td>1 RB, 1 TE, 3 WR</td>\n",
              "      <td>6.0</td>\n",
              "      <td>5.0</td>\n",
              "      <td>4 DL, 1 LB, 6 DB</td>\n",
              "      <td>SCRAMBLE_ROLLOUT_LEFT</td>\n",
              "      <td>0.0</td>\n",
              "      <td>0.0</td>\n",
              "      <td>13:01:00</td>\n",
              "      <td>49.0</td>\n",
              "      <td>None</td>\n",
              "      <td>None</td>\n",
              "      <td>C</td>\n",
              "      <td>33</td>\n",
              "      <td>33</td>\n",
              "      <td>3.047530</td>\n",
              "      <td>False</td>\n",
              "    </tr>\n",
              "    <tr>\n",
              "      <th>4</th>\n",
              "      <td>2018090600</td>\n",
              "      <td>256</td>\n",
              "      <td>(10:59) (Shotgun) M.Ryan pass incomplete short...</td>\n",
              "      <td>1</td>\n",
              "      <td>3</td>\n",
              "      <td>1</td>\n",
              "      <td>ATL</td>\n",
              "      <td>play_type_pass</td>\n",
              "      <td>PHI</td>\n",
              "      <td>1</td>\n",
              "      <td>SHOTGUN</td>\n",
              "      <td>2 RB, 3 TE, 0 WR</td>\n",
              "      <td>8.0</td>\n",
              "      <td>6.0</td>\n",
              "      <td>6 DL, 3 LB, 2 DB</td>\n",
              "      <td>TRADITIONAL</td>\n",
              "      <td>0.0</td>\n",
              "      <td>0.0</td>\n",
              "      <td>10:59:00</td>\n",
              "      <td>11.0</td>\n",
              "      <td>None</td>\n",
              "      <td>None</td>\n",
              "      <td>I</td>\n",
              "      <td>0</td>\n",
              "      <td>0</td>\n",
              "      <td>-0.842272</td>\n",
              "      <td>False</td>\n",
              "    </tr>\n",
              "    <tr>\n",
              "      <th>...</th>\n",
              "      <td>...</td>\n",
              "      <td>...</td>\n",
              "      <td>...</td>\n",
              "      <td>...</td>\n",
              "      <td>...</td>\n",
              "      <td>...</td>\n",
              "      <td>...</td>\n",
              "      <td>...</td>\n",
              "      <td>...</td>\n",
              "      <td>...</td>\n",
              "      <td>...</td>\n",
              "      <td>...</td>\n",
              "      <td>...</td>\n",
              "      <td>...</td>\n",
              "      <td>...</td>\n",
              "      <td>...</td>\n",
              "      <td>...</td>\n",
              "      <td>...</td>\n",
              "      <td>...</td>\n",
              "      <td>...</td>\n",
              "      <td>...</td>\n",
              "      <td>...</td>\n",
              "      <td>...</td>\n",
              "      <td>...</td>\n",
              "      <td>...</td>\n",
              "      <td>...</td>\n",
              "      <td>...</td>\n",
              "    </tr>\n",
              "    <tr>\n",
              "      <th>19234</th>\n",
              "      <td>2018122200</td>\n",
              "      <td>2300</td>\n",
              "      <td>(7:53) J.Johnson pass incomplete short left [K...</td>\n",
              "      <td>3</td>\n",
              "      <td>2</td>\n",
              "      <td>5</td>\n",
              "      <td>WAS</td>\n",
              "      <td>play_type_unknown</td>\n",
              "      <td>WAS</td>\n",
              "      <td>31</td>\n",
              "      <td>SINGLEBACK</td>\n",
              "      <td>1 RB, 1 TE, 3 WR</td>\n",
              "      <td>7.0</td>\n",
              "      <td>NaN</td>\n",
              "      <td>2 DL, 4 LB, 5 DB</td>\n",
              "      <td>None</td>\n",
              "      <td>NaN</td>\n",
              "      <td>NaN</td>\n",
              "      <td>None</td>\n",
              "      <td>NaN</td>\n",
              "      <td>DH</td>\n",
              "      <td>TEN 24</td>\n",
              "      <td>I</td>\n",
              "      <td>0</td>\n",
              "      <td>5</td>\n",
              "      <td>0.848703</td>\n",
              "      <td>False</td>\n",
              "    </tr>\n",
              "    <tr>\n",
              "      <th>19235</th>\n",
              "      <td>2018122200</td>\n",
              "      <td>3177</td>\n",
              "      <td>(6:53) (Shotgun) B.Gabbert pass incomplete sho...</td>\n",
              "      <td>4</td>\n",
              "      <td>3</td>\n",
              "      <td>7</td>\n",
              "      <td>TEN</td>\n",
              "      <td>play_type_unknown</td>\n",
              "      <td>WAS</td>\n",
              "      <td>37</td>\n",
              "      <td>SHOTGUN</td>\n",
              "      <td>1 RB, 1 TE, 3 WR</td>\n",
              "      <td>6.0</td>\n",
              "      <td>NaN</td>\n",
              "      <td>2 DL, 4 LB, 5 DB</td>\n",
              "      <td>None</td>\n",
              "      <td>NaN</td>\n",
              "      <td>NaN</td>\n",
              "      <td>None</td>\n",
              "      <td>NaN</td>\n",
              "      <td>DH</td>\n",
              "      <td>WAS 31</td>\n",
              "      <td>I</td>\n",
              "      <td>0</td>\n",
              "      <td>5</td>\n",
              "      <td>1.227695</td>\n",
              "      <td>False</td>\n",
              "    </tr>\n",
              "    <tr>\n",
              "      <th>19236</th>\n",
              "      <td>2018122201</td>\n",
              "      <td>566</td>\n",
              "      <td>(5:32) (Shotgun) P.Rivers pass deep right to K...</td>\n",
              "      <td>1</td>\n",
              "      <td>3</td>\n",
              "      <td>4</td>\n",
              "      <td>LAC</td>\n",
              "      <td>play_type_unknown</td>\n",
              "      <td>LAC</td>\n",
              "      <td>49</td>\n",
              "      <td>SHOTGUN</td>\n",
              "      <td>1 RB, 1 TE, 3 WR</td>\n",
              "      <td>6.0</td>\n",
              "      <td>NaN</td>\n",
              "      <td>1 DL, 5 LB, 5 DB</td>\n",
              "      <td>None</td>\n",
              "      <td>NaN</td>\n",
              "      <td>NaN</td>\n",
              "      <td>None</td>\n",
              "      <td>NaN</td>\n",
              "      <td>OPI</td>\n",
              "      <td>LAC 13</td>\n",
              "      <td>C</td>\n",
              "      <td>27</td>\n",
              "      <td>-10</td>\n",
              "      <td>-0.720168</td>\n",
              "      <td>False</td>\n",
              "    </tr>\n",
              "    <tr>\n",
              "      <th>19237</th>\n",
              "      <td>2018122201</td>\n",
              "      <td>1719</td>\n",
              "      <td>(1:08) P.Rivers pass incomplete deep middle to...</td>\n",
              "      <td>2</td>\n",
              "      <td>3</td>\n",
              "      <td>1</td>\n",
              "      <td>LAC</td>\n",
              "      <td>play_type_unknown</td>\n",
              "      <td>LAC</td>\n",
              "      <td>48</td>\n",
              "      <td>SINGLEBACK</td>\n",
              "      <td>1 RB, 1 TE, 3 WR</td>\n",
              "      <td>7.0</td>\n",
              "      <td>NaN</td>\n",
              "      <td>2 DL, 3 LB, 6 DB</td>\n",
              "      <td>None</td>\n",
              "      <td>NaN</td>\n",
              "      <td>NaN</td>\n",
              "      <td>None</td>\n",
              "      <td>NaN</td>\n",
              "      <td>DPI</td>\n",
              "      <td>BAL 23</td>\n",
              "      <td>I</td>\n",
              "      <td>0</td>\n",
              "      <td>15</td>\n",
              "      <td>1.336078</td>\n",
              "      <td>True</td>\n",
              "    </tr>\n",
              "    <tr>\n",
              "      <th>19238</th>\n",
              "      <td>2018122201</td>\n",
              "      <td>2649</td>\n",
              "      <td>(7:16) (Shotgun) L.Jackson pass incomplete sho...</td>\n",
              "      <td>3</td>\n",
              "      <td>1</td>\n",
              "      <td>10</td>\n",
              "      <td>BAL</td>\n",
              "      <td>play_type_unknown</td>\n",
              "      <td>LAC</td>\n",
              "      <td>49</td>\n",
              "      <td>SHOTGUN</td>\n",
              "      <td>1 RB, 1 TE, 3 WR</td>\n",
              "      <td>6.0</td>\n",
              "      <td>NaN</td>\n",
              "      <td>4 DL, 1 LB, 6 DB</td>\n",
              "      <td>None</td>\n",
              "      <td>NaN</td>\n",
              "      <td>NaN</td>\n",
              "      <td>None</td>\n",
              "      <td>NaN</td>\n",
              "      <td>DPI</td>\n",
              "      <td>LAC 43</td>\n",
              "      <td>I</td>\n",
              "      <td>0</td>\n",
              "      <td>9</td>\n",
              "      <td>0.550256</td>\n",
              "      <td>True</td>\n",
              "    </tr>\n",
              "  </tbody>\n",
              "</table>\n",
              "<p>19239 rows × 27 columns</p>\n",
              "</div>"
            ],
            "text/plain": [
              "           gameId  playId  ...       epa  isDefensivePI\n",
              "0      2018090600      75  ...  0.261827          False\n",
              "1      2018090600     146  ... -0.372360          False\n",
              "2      2018090600     168  ... -0.702779          False\n",
              "3      2018090600     190  ...  3.047530          False\n",
              "4      2018090600     256  ... -0.842272          False\n",
              "...           ...     ...  ...       ...            ...\n",
              "19234  2018122200    2300  ...  0.848703          False\n",
              "19235  2018122200    3177  ...  1.227695          False\n",
              "19236  2018122201     566  ... -0.720168          False\n",
              "19237  2018122201    1719  ...  1.336078           True\n",
              "19238  2018122201    2649  ...  0.550256           True\n",
              "\n",
              "[19239 rows x 27 columns]"
            ]
          },
          "metadata": {
            "tags": []
          },
          "execution_count": 6
        }
      ]
    },
    {
      "cell_type": "code",
      "metadata": {
        "colab": {
          "base_uri": "https://localhost:8080/"
        },
        "id": "oEEZC-O-Kw0u",
        "outputId": "1c4bfec5-7555-4fd3-f2fc-f25b5fc5fa40"
      },
      "source": [
        "df_list = []\r\n",
        "for week in range(1, 18):\r\n",
        "  df = pd.read_parquet(f'https://github.com/kilee722/NFL_Data_Analytics/raw/main/data/week_{week}.parquet.gzip')\r\n",
        "  df['Week'] = week\r\n",
        "  df_list.append(df)\r\n",
        "\r\n",
        "print(len(df_list))"
      ],
      "execution_count": null,
      "outputs": [
        {
          "output_type": "stream",
          "text": [
            "17\n"
          ],
          "name": "stdout"
        }
      ]
    },
    {
      "cell_type": "code",
      "metadata": {
        "colab": {
          "base_uri": "https://localhost:8080/",
          "height": 609
        },
        "id": "n8b1NeQeK5I_",
        "outputId": "3ca3f0e2-333d-4bfb-d466-9db2052b2e5e"
      },
      "source": [
        "weekly_data = pd.concat(df_list)\r\n",
        "\r\n",
        "weekly_data"
      ],
      "execution_count": null,
      "outputs": [
        {
          "output_type": "execute_result",
          "data": {
            "text/html": [
              "<div>\n",
              "<style scoped>\n",
              "    .dataframe tbody tr th:only-of-type {\n",
              "        vertical-align: middle;\n",
              "    }\n",
              "\n",
              "    .dataframe tbody tr th {\n",
              "        vertical-align: top;\n",
              "    }\n",
              "\n",
              "    .dataframe thead th {\n",
              "        text-align: right;\n",
              "    }\n",
              "</style>\n",
              "<table border=\"1\" class=\"dataframe\">\n",
              "  <thead>\n",
              "    <tr style=\"text-align: right;\">\n",
              "      <th></th>\n",
              "      <th>time</th>\n",
              "      <th>x</th>\n",
              "      <th>y</th>\n",
              "      <th>s</th>\n",
              "      <th>a</th>\n",
              "      <th>dis</th>\n",
              "      <th>o</th>\n",
              "      <th>dir</th>\n",
              "      <th>event</th>\n",
              "      <th>nflId</th>\n",
              "      <th>displayName</th>\n",
              "      <th>jerseyNumber</th>\n",
              "      <th>position</th>\n",
              "      <th>frameId</th>\n",
              "      <th>team</th>\n",
              "      <th>gameId</th>\n",
              "      <th>playId</th>\n",
              "      <th>playDirection</th>\n",
              "      <th>route</th>\n",
              "      <th>Week</th>\n",
              "    </tr>\n",
              "  </thead>\n",
              "  <tbody>\n",
              "    <tr>\n",
              "      <th>0</th>\n",
              "      <td>2018-09-07T01:07:14.599Z</td>\n",
              "      <td>91.73</td>\n",
              "      <td>26.67</td>\n",
              "      <td>0.00</td>\n",
              "      <td>0.01</td>\n",
              "      <td>0.02</td>\n",
              "      <td>289.57</td>\n",
              "      <td>240.93</td>\n",
              "      <td>None</td>\n",
              "      <td>310.0</td>\n",
              "      <td>Matt Ryan</td>\n",
              "      <td>2.0</td>\n",
              "      <td>QB</td>\n",
              "      <td>1</td>\n",
              "      <td>away</td>\n",
              "      <td>2018090600</td>\n",
              "      <td>75</td>\n",
              "      <td>left</td>\n",
              "      <td>None</td>\n",
              "      <td>1</td>\n",
              "    </tr>\n",
              "    <tr>\n",
              "      <th>1</th>\n",
              "      <td>2018-09-07T01:07:14.599Z</td>\n",
              "      <td>88.89</td>\n",
              "      <td>36.47</td>\n",
              "      <td>0.01</td>\n",
              "      <td>0.01</td>\n",
              "      <td>0.01</td>\n",
              "      <td>105.63</td>\n",
              "      <td>66.66</td>\n",
              "      <td>None</td>\n",
              "      <td>79848.0</td>\n",
              "      <td>Malcolm Jenkins</td>\n",
              "      <td>27.0</td>\n",
              "      <td>SS</td>\n",
              "      <td>1</td>\n",
              "      <td>home</td>\n",
              "      <td>2018090600</td>\n",
              "      <td>75</td>\n",
              "      <td>left</td>\n",
              "      <td>None</td>\n",
              "      <td>1</td>\n",
              "    </tr>\n",
              "    <tr>\n",
              "      <th>2</th>\n",
              "      <td>2018-09-07T01:07:14.599Z</td>\n",
              "      <td>91.35</td>\n",
              "      <td>44.16</td>\n",
              "      <td>0.02</td>\n",
              "      <td>0.03</td>\n",
              "      <td>0.01</td>\n",
              "      <td>290.45</td>\n",
              "      <td>16.86</td>\n",
              "      <td>None</td>\n",
              "      <td>2495454.0</td>\n",
              "      <td>Julio Jones</td>\n",
              "      <td>11.0</td>\n",
              "      <td>WR</td>\n",
              "      <td>1</td>\n",
              "      <td>away</td>\n",
              "      <td>2018090600</td>\n",
              "      <td>75</td>\n",
              "      <td>left</td>\n",
              "      <td>HITCH</td>\n",
              "      <td>1</td>\n",
              "    </tr>\n",
              "    <tr>\n",
              "      <th>3</th>\n",
              "      <td>2018-09-07T01:07:14.599Z</td>\n",
              "      <td>86.31</td>\n",
              "      <td>22.01</td>\n",
              "      <td>0.09</td>\n",
              "      <td>0.42</td>\n",
              "      <td>0.01</td>\n",
              "      <td>70.12</td>\n",
              "      <td>168.91</td>\n",
              "      <td>None</td>\n",
              "      <td>2495613.0</td>\n",
              "      <td>Corey Graham</td>\n",
              "      <td>24.0</td>\n",
              "      <td>FS</td>\n",
              "      <td>1</td>\n",
              "      <td>home</td>\n",
              "      <td>2018090600</td>\n",
              "      <td>75</td>\n",
              "      <td>left</td>\n",
              "      <td>None</td>\n",
              "      <td>1</td>\n",
              "    </tr>\n",
              "    <tr>\n",
              "      <th>4</th>\n",
              "      <td>2018-09-07T01:07:14.599Z</td>\n",
              "      <td>90.78</td>\n",
              "      <td>36.15</td>\n",
              "      <td>0.00</td>\n",
              "      <td>0.00</td>\n",
              "      <td>0.00</td>\n",
              "      <td>257.61</td>\n",
              "      <td>193.97</td>\n",
              "      <td>None</td>\n",
              "      <td>2533040.0</td>\n",
              "      <td>Mohamed Sanu</td>\n",
              "      <td>12.0</td>\n",
              "      <td>WR</td>\n",
              "      <td>1</td>\n",
              "      <td>away</td>\n",
              "      <td>2018090600</td>\n",
              "      <td>75</td>\n",
              "      <td>left</td>\n",
              "      <td>HITCH</td>\n",
              "      <td>1</td>\n",
              "    </tr>\n",
              "    <tr>\n",
              "      <th>...</th>\n",
              "      <td>...</td>\n",
              "      <td>...</td>\n",
              "      <td>...</td>\n",
              "      <td>...</td>\n",
              "      <td>...</td>\n",
              "      <td>...</td>\n",
              "      <td>...</td>\n",
              "      <td>...</td>\n",
              "      <td>...</td>\n",
              "      <td>...</td>\n",
              "      <td>...</td>\n",
              "      <td>...</td>\n",
              "      <td>...</td>\n",
              "      <td>...</td>\n",
              "      <td>...</td>\n",
              "      <td>...</td>\n",
              "      <td>...</td>\n",
              "      <td>...</td>\n",
              "      <td>...</td>\n",
              "      <td>...</td>\n",
              "    </tr>\n",
              "    <tr>\n",
              "      <th>1049260</th>\n",
              "      <td>2018-12-31T04:23:24.200Z</td>\n",
              "      <td>95.77</td>\n",
              "      <td>11.20</td>\n",
              "      <td>7.15</td>\n",
              "      <td>1.75</td>\n",
              "      <td>0.73</td>\n",
              "      <td>103.97</td>\n",
              "      <td>118.54</td>\n",
              "      <td>None</td>\n",
              "      <td>2558942.0</td>\n",
              "      <td>Anthony Firkser</td>\n",
              "      <td>86.0</td>\n",
              "      <td>TE</td>\n",
              "      <td>102</td>\n",
              "      <td>home</td>\n",
              "      <td>2018123011</td>\n",
              "      <td>4261</td>\n",
              "      <td>left</td>\n",
              "      <td>POST</td>\n",
              "      <td>17</td>\n",
              "    </tr>\n",
              "    <tr>\n",
              "      <th>1049261</th>\n",
              "      <td>2018-12-31T04:23:24.200Z</td>\n",
              "      <td>101.94</td>\n",
              "      <td>14.60</td>\n",
              "      <td>5.63</td>\n",
              "      <td>2.24</td>\n",
              "      <td>0.57</td>\n",
              "      <td>139.23</td>\n",
              "      <td>119.97</td>\n",
              "      <td>None</td>\n",
              "      <td>2558976.0</td>\n",
              "      <td>Kenny Moore</td>\n",
              "      <td>23.0</td>\n",
              "      <td>CB</td>\n",
              "      <td>102</td>\n",
              "      <td>away</td>\n",
              "      <td>2018123011</td>\n",
              "      <td>4261</td>\n",
              "      <td>left</td>\n",
              "      <td>None</td>\n",
              "      <td>17</td>\n",
              "    </tr>\n",
              "    <tr>\n",
              "      <th>1049262</th>\n",
              "      <td>2018-12-31T04:23:24.200Z</td>\n",
              "      <td>102.68</td>\n",
              "      <td>0.94</td>\n",
              "      <td>2.34</td>\n",
              "      <td>1.67</td>\n",
              "      <td>0.24</td>\n",
              "      <td>164.79</td>\n",
              "      <td>152.29</td>\n",
              "      <td>None</td>\n",
              "      <td>2560789.0</td>\n",
              "      <td>Darius Leonard</td>\n",
              "      <td>53.0</td>\n",
              "      <td>LB</td>\n",
              "      <td>102</td>\n",
              "      <td>away</td>\n",
              "      <td>2018123011</td>\n",
              "      <td>4261</td>\n",
              "      <td>left</td>\n",
              "      <td>None</td>\n",
              "      <td>17</td>\n",
              "    </tr>\n",
              "    <tr>\n",
              "      <th>1049263</th>\n",
              "      <td>2018-12-31T04:23:24.200Z</td>\n",
              "      <td>105.82</td>\n",
              "      <td>0.71</td>\n",
              "      <td>2.28</td>\n",
              "      <td>3.53</td>\n",
              "      <td>0.25</td>\n",
              "      <td>284.72</td>\n",
              "      <td>93.44</td>\n",
              "      <td>None</td>\n",
              "      <td>2561521.0</td>\n",
              "      <td>Cameron Batson</td>\n",
              "      <td>17.0</td>\n",
              "      <td>WR</td>\n",
              "      <td>102</td>\n",
              "      <td>home</td>\n",
              "      <td>2018123011</td>\n",
              "      <td>4261</td>\n",
              "      <td>left</td>\n",
              "      <td>OUT</td>\n",
              "      <td>17</td>\n",
              "    </tr>\n",
              "    <tr>\n",
              "      <th>1049264</th>\n",
              "      <td>2018-12-31T04:23:24.200Z</td>\n",
              "      <td>101.33</td>\n",
              "      <td>0.91</td>\n",
              "      <td>0.99</td>\n",
              "      <td>0.67</td>\n",
              "      <td>0.10</td>\n",
              "      <td>NaN</td>\n",
              "      <td>NaN</td>\n",
              "      <td>None</td>\n",
              "      <td>NaN</td>\n",
              "      <td>Football</td>\n",
              "      <td>NaN</td>\n",
              "      <td>None</td>\n",
              "      <td>102</td>\n",
              "      <td>football</td>\n",
              "      <td>2018123011</td>\n",
              "      <td>4261</td>\n",
              "      <td>left</td>\n",
              "      <td>None</td>\n",
              "      <td>17</td>\n",
              "    </tr>\n",
              "  </tbody>\n",
              "</table>\n",
              "<p>18309388 rows × 20 columns</p>\n",
              "</div>"
            ],
            "text/plain": [
              "                             time       x      y  ...  playDirection  route  Week\n",
              "0        2018-09-07T01:07:14.599Z   91.73  26.67  ...           left   None     1\n",
              "1        2018-09-07T01:07:14.599Z   88.89  36.47  ...           left   None     1\n",
              "2        2018-09-07T01:07:14.599Z   91.35  44.16  ...           left  HITCH     1\n",
              "3        2018-09-07T01:07:14.599Z   86.31  22.01  ...           left   None     1\n",
              "4        2018-09-07T01:07:14.599Z   90.78  36.15  ...           left  HITCH     1\n",
              "...                           ...     ...    ...  ...            ...    ...   ...\n",
              "1049260  2018-12-31T04:23:24.200Z   95.77  11.20  ...           left   POST    17\n",
              "1049261  2018-12-31T04:23:24.200Z  101.94  14.60  ...           left   None    17\n",
              "1049262  2018-12-31T04:23:24.200Z  102.68   0.94  ...           left   None    17\n",
              "1049263  2018-12-31T04:23:24.200Z  105.82   0.71  ...           left    OUT    17\n",
              "1049264  2018-12-31T04:23:24.200Z  101.33   0.91  ...           left   None    17\n",
              "\n",
              "[18309388 rows x 20 columns]"
            ]
          },
          "metadata": {
            "tags": []
          },
          "execution_count": 8
        }
      ]
    },
    {
      "cell_type": "code",
      "metadata": {
        "colab": {
          "base_uri": "https://localhost:8080/"
        },
        "id": "P3YDr46TLdTI",
        "outputId": "15cc388a-c19b-46b5-ebc8-8b2c3b8fc5fe"
      },
      "source": [
        "weekly_data.isna().sum()"
      ],
      "execution_count": null,
      "outputs": [
        {
          "output_type": "execute_result",
          "data": {
            "text/plain": [
              "time                    0\n",
              "x                       0\n",
              "y                       0\n",
              "s                       1\n",
              "a                      28\n",
              "dis                     1\n",
              "o                 1247860\n",
              "dir               1247846\n",
              "event                   0\n",
              "nflId             1247642\n",
              "displayName             0\n",
              "jerseyNumber      1247642\n",
              "position          1247642\n",
              "frameId                 0\n",
              "team                    0\n",
              "gameId                  0\n",
              "playId                  0\n",
              "playDirection           0\n",
              "route            13191433\n",
              "Week                    0\n",
              "dtype: int64"
            ]
          },
          "metadata": {
            "tags": []
          },
          "execution_count": 9
        }
      ]
    },
    {
      "cell_type": "code",
      "metadata": {
        "colab": {
          "base_uri": "https://localhost:8080/"
        },
        "id": "imGGJoMALpHR",
        "outputId": "7dcf557d-0c7f-4f7a-8715-721ddc18b8d4"
      },
      "source": [
        "weekly_data.query('displayName == \"Football\"').shape"
      ],
      "execution_count": null,
      "outputs": [
        {
          "output_type": "execute_result",
          "data": {
            "text/plain": [
              "(1247642, 20)"
            ]
          },
          "metadata": {
            "tags": []
          },
          "execution_count": 10
        }
      ]
    },
    {
      "cell_type": "code",
      "metadata": {
        "id": "gI100IDDLzra",
        "colab": {
          "base_uri": "https://localhost:8080/"
        },
        "outputId": "725333b0-99b8-4f92-8763-67ea70189d20"
      },
      "source": [
        "weekly_data[weekly_data.displayName == \"Football\"].shape"
      ],
      "execution_count": null,
      "outputs": [
        {
          "output_type": "execute_result",
          "data": {
            "text/plain": [
              "(1247642, 20)"
            ]
          },
          "metadata": {
            "tags": []
          },
          "execution_count": 11
        }
      ]
    },
    {
      "cell_type": "code",
      "metadata": {
        "id": "41ZwepwLOuiP",
        "colab": {
          "base_uri": "https://localhost:8080/"
        },
        "outputId": "021c1529-995e-4a9e-a715-8de7ff201c79"
      },
      "source": [
        "games.info()"
      ],
      "execution_count": null,
      "outputs": [
        {
          "output_type": "stream",
          "text": [
            "<class 'pandas.core.frame.DataFrame'>\n",
            "RangeIndex: 253 entries, 0 to 252\n",
            "Data columns (total 6 columns):\n",
            " #   Column           Non-Null Count  Dtype \n",
            "---  ------           --------------  ----- \n",
            " 0   gameId           253 non-null    int64 \n",
            " 1   gameDate         253 non-null    object\n",
            " 2   gameTimeEastern  253 non-null    object\n",
            " 3   homeTeamAbbr     253 non-null    object\n",
            " 4   visitorTeamAbbr  253 non-null    object\n",
            " 5   week             253 non-null    int64 \n",
            "dtypes: int64(2), object(4)\n",
            "memory usage: 12.0+ KB\n"
          ],
          "name": "stdout"
        }
      ]
    },
    {
      "cell_type": "code",
      "metadata": {
        "colab": {
          "base_uri": "https://localhost:8080/"
        },
        "id": "Xr9qbS1uPvBa",
        "outputId": "9a50f3cb-5735-4f18-8d70-61e0ea26f376"
      },
      "source": [
        "plays.info()"
      ],
      "execution_count": null,
      "outputs": [
        {
          "output_type": "stream",
          "text": [
            "<class 'pandas.core.frame.DataFrame'>\n",
            "RangeIndex: 19239 entries, 0 to 19238\n",
            "Data columns (total 27 columns):\n",
            " #   Column                  Non-Null Count  Dtype  \n",
            "---  ------                  --------------  -----  \n",
            " 0   gameId                  19239 non-null  int64  \n",
            " 1   playId                  19239 non-null  int64  \n",
            " 2   playDescription         19239 non-null  object \n",
            " 3   quarter                 19239 non-null  int64  \n",
            " 4   down                    19239 non-null  int64  \n",
            " 5   yardsToGo               19239 non-null  int64  \n",
            " 6   possessionTeam          19239 non-null  object \n",
            " 7   playType                19239 non-null  object \n",
            " 8   yardlineSide            18985 non-null  object \n",
            " 9   yardlineNumber          19239 non-null  int64  \n",
            " 10  offenseFormation        19098 non-null  object \n",
            " 11  personnelO              19210 non-null  object \n",
            " 12  defendersInTheBox       19177 non-null  float64\n",
            " 13  numberOfPassRushers     18606 non-null  float64\n",
            " 14  personnelD              19210 non-null  object \n",
            " 15  typeDropback            18600 non-null  object \n",
            " 16  preSnapVisitorScore     18600 non-null  float64\n",
            " 17  preSnapHomeScore        18600 non-null  float64\n",
            " 18  gameClock               18600 non-null  object \n",
            " 19  absoluteYardlineNumber  18600 non-null  float64\n",
            " 20  penaltyCodes            1206 non-null   object \n",
            " 21  penaltyJerseyNumbers    1206 non-null   object \n",
            " 22  passResult              19237 non-null  object \n",
            " 23  offensePlayResult       19239 non-null  int64  \n",
            " 24  playResult              19239 non-null  int64  \n",
            " 25  epa                     19239 non-null  float64\n",
            " 26  isDefensivePI           19239 non-null  bool   \n",
            "dtypes: bool(1), float64(6), int64(8), object(12)\n",
            "memory usage: 3.8+ MB\n"
          ],
          "name": "stdout"
        }
      ]
    },
    {
      "cell_type": "code",
      "metadata": {
        "colab": {
          "base_uri": "https://localhost:8080/"
        },
        "id": "HiXXwEgFPvEE",
        "outputId": "7e1c256d-c688-4167-c00d-1a90552ff3da"
      },
      "source": [
        "players.info()"
      ],
      "execution_count": null,
      "outputs": [
        {
          "output_type": "stream",
          "text": [
            "<class 'pandas.core.frame.DataFrame'>\n",
            "RangeIndex: 1303 entries, 0 to 1302\n",
            "Data columns (total 7 columns):\n",
            " #   Column       Non-Null Count  Dtype \n",
            "---  ------       --------------  ----- \n",
            " 0   nflId        1303 non-null   int64 \n",
            " 1   height       1303 non-null   object\n",
            " 2   weight       1303 non-null   int64 \n",
            " 3   birthDate    1303 non-null   object\n",
            " 4   collegeName  1303 non-null   object\n",
            " 5   position     1303 non-null   object\n",
            " 6   displayName  1303 non-null   object\n",
            "dtypes: int64(2), object(5)\n",
            "memory usage: 71.4+ KB\n"
          ],
          "name": "stdout"
        }
      ]
    },
    {
      "cell_type": "code",
      "metadata": {
        "colab": {
          "base_uri": "https://localhost:8080/"
        },
        "id": "VywlaJPqPvGf",
        "outputId": "a7ea4973-b551-4cfd-8ed5-59f0b79ae2db"
      },
      "source": [
        "weekly_data.info()"
      ],
      "execution_count": null,
      "outputs": [
        {
          "output_type": "stream",
          "text": [
            "<class 'pandas.core.frame.DataFrame'>\n",
            "Int64Index: 18309388 entries, 0 to 1049264\n",
            "Data columns (total 20 columns):\n",
            " #   Column         Dtype  \n",
            "---  ------         -----  \n",
            " 0   time           object \n",
            " 1   x              float64\n",
            " 2   y              float64\n",
            " 3   s              float64\n",
            " 4   a              float64\n",
            " 5   dis            float64\n",
            " 6   o              float64\n",
            " 7   dir            float64\n",
            " 8   event          object \n",
            " 9   nflId          float64\n",
            " 10  displayName    object \n",
            " 11  jerseyNumber   float64\n",
            " 12  position       object \n",
            " 13  frameId        int64  \n",
            " 14  team           object \n",
            " 15  gameId         int64  \n",
            " 16  playId         int64  \n",
            " 17  playDirection  object \n",
            " 18  route          object \n",
            " 19  Week           int64  \n",
            "dtypes: float64(9), int64(4), object(7)\n",
            "memory usage: 2.9+ GB\n"
          ],
          "name": "stdout"
        }
      ]
    },
    {
      "cell_type": "markdown",
      "metadata": {
        "id": "vO00-ZDaP-bp"
      },
      "source": [
        "# **Exploratory Data Analysis (EDA)**"
      ]
    },
    {
      "cell_type": "markdown",
      "metadata": {
        "id": "pHMmjJz3YzV-"
      },
      "source": [
        "### **Base EDA**"
      ]
    },
    {
      "cell_type": "markdown",
      "metadata": {
        "id": "YTFNgA2BQQZg"
      },
      "source": [
        "**Games** "
      ]
    },
    {
      "cell_type": "code",
      "metadata": {
        "colab": {
          "base_uri": "https://localhost:8080/",
          "height": 141
        },
        "id": "i50LPtknQgUu",
        "outputId": "0e54053e-450c-4149-9ded-a9df4a0341b6"
      },
      "source": [
        "games.head(3)"
      ],
      "execution_count": null,
      "outputs": [
        {
          "output_type": "execute_result",
          "data": {
            "text/html": [
              "<div>\n",
              "<style scoped>\n",
              "    .dataframe tbody tr th:only-of-type {\n",
              "        vertical-align: middle;\n",
              "    }\n",
              "\n",
              "    .dataframe tbody tr th {\n",
              "        vertical-align: top;\n",
              "    }\n",
              "\n",
              "    .dataframe thead th {\n",
              "        text-align: right;\n",
              "    }\n",
              "</style>\n",
              "<table border=\"1\" class=\"dataframe\">\n",
              "  <thead>\n",
              "    <tr style=\"text-align: right;\">\n",
              "      <th></th>\n",
              "      <th>gameId</th>\n",
              "      <th>gameDate</th>\n",
              "      <th>gameTimeEastern</th>\n",
              "      <th>homeTeamAbbr</th>\n",
              "      <th>visitorTeamAbbr</th>\n",
              "      <th>week</th>\n",
              "    </tr>\n",
              "  </thead>\n",
              "  <tbody>\n",
              "    <tr>\n",
              "      <th>0</th>\n",
              "      <td>2018090600</td>\n",
              "      <td>09/06/2018</td>\n",
              "      <td>20:20:00</td>\n",
              "      <td>PHI</td>\n",
              "      <td>ATL</td>\n",
              "      <td>1</td>\n",
              "    </tr>\n",
              "    <tr>\n",
              "      <th>1</th>\n",
              "      <td>2018090901</td>\n",
              "      <td>09/09/2018</td>\n",
              "      <td>13:00:00</td>\n",
              "      <td>CLE</td>\n",
              "      <td>PIT</td>\n",
              "      <td>1</td>\n",
              "    </tr>\n",
              "    <tr>\n",
              "      <th>2</th>\n",
              "      <td>2018090902</td>\n",
              "      <td>09/09/2018</td>\n",
              "      <td>13:00:00</td>\n",
              "      <td>IND</td>\n",
              "      <td>CIN</td>\n",
              "      <td>1</td>\n",
              "    </tr>\n",
              "  </tbody>\n",
              "</table>\n",
              "</div>"
            ],
            "text/plain": [
              "       gameId    gameDate gameTimeEastern homeTeamAbbr visitorTeamAbbr  week\n",
              "0  2018090600  09/06/2018        20:20:00          PHI             ATL     1\n",
              "1  2018090901  09/09/2018        13:00:00          CLE             PIT     1\n",
              "2  2018090902  09/09/2018        13:00:00          IND             CIN     1"
            ]
          },
          "metadata": {
            "tags": []
          },
          "execution_count": 16
        }
      ]
    },
    {
      "cell_type": "code",
      "metadata": {
        "colab": {
          "base_uri": "https://localhost:8080/",
          "height": 141
        },
        "id": "_l1NpavuQgXM",
        "outputId": "f4e7e144-37d4-4559-a2c1-bf8cbf122550"
      },
      "source": [
        "games.tail(3)"
      ],
      "execution_count": null,
      "outputs": [
        {
          "output_type": "execute_result",
          "data": {
            "text/html": [
              "<div>\n",
              "<style scoped>\n",
              "    .dataframe tbody tr th:only-of-type {\n",
              "        vertical-align: middle;\n",
              "    }\n",
              "\n",
              "    .dataframe tbody tr th {\n",
              "        vertical-align: top;\n",
              "    }\n",
              "\n",
              "    .dataframe thead th {\n",
              "        text-align: right;\n",
              "    }\n",
              "</style>\n",
              "<table border=\"1\" class=\"dataframe\">\n",
              "  <thead>\n",
              "    <tr style=\"text-align: right;\">\n",
              "      <th></th>\n",
              "      <th>gameId</th>\n",
              "      <th>gameDate</th>\n",
              "      <th>gameTimeEastern</th>\n",
              "      <th>homeTeamAbbr</th>\n",
              "      <th>visitorTeamAbbr</th>\n",
              "      <th>week</th>\n",
              "    </tr>\n",
              "  </thead>\n",
              "  <tbody>\n",
              "    <tr>\n",
              "      <th>250</th>\n",
              "      <td>2018123014</td>\n",
              "      <td>12/30/2018</td>\n",
              "      <td>16:25:00</td>\n",
              "      <td>LA</td>\n",
              "      <td>SF</td>\n",
              "      <td>17</td>\n",
              "    </tr>\n",
              "    <tr>\n",
              "      <th>251</th>\n",
              "      <td>2018122200</td>\n",
              "      <td>12/22/2018</td>\n",
              "      <td>16:30:00</td>\n",
              "      <td>TEN</td>\n",
              "      <td>WAS</td>\n",
              "      <td>16</td>\n",
              "    </tr>\n",
              "    <tr>\n",
              "      <th>252</th>\n",
              "      <td>2018122201</td>\n",
              "      <td>12/22/2018</td>\n",
              "      <td>20:20:00</td>\n",
              "      <td>LAC</td>\n",
              "      <td>BAL</td>\n",
              "      <td>16</td>\n",
              "    </tr>\n",
              "  </tbody>\n",
              "</table>\n",
              "</div>"
            ],
            "text/plain": [
              "         gameId    gameDate gameTimeEastern homeTeamAbbr visitorTeamAbbr  week\n",
              "250  2018123014  12/30/2018        16:25:00           LA              SF    17\n",
              "251  2018122200  12/22/2018        16:30:00          TEN             WAS    16\n",
              "252  2018122201  12/22/2018        20:20:00          LAC             BAL    16"
            ]
          },
          "metadata": {
            "tags": []
          },
          "execution_count": 17
        }
      ]
    },
    {
      "cell_type": "code",
      "metadata": {
        "colab": {
          "base_uri": "https://localhost:8080/"
        },
        "id": "7hb19kxFQK-x",
        "outputId": "a5b84705-4de2-4064-b8ba-f5a6578185c1"
      },
      "source": [
        "games.info()"
      ],
      "execution_count": null,
      "outputs": [
        {
          "output_type": "stream",
          "text": [
            "<class 'pandas.core.frame.DataFrame'>\n",
            "RangeIndex: 253 entries, 0 to 252\n",
            "Data columns (total 6 columns):\n",
            " #   Column           Non-Null Count  Dtype \n",
            "---  ------           --------------  ----- \n",
            " 0   gameId           253 non-null    int64 \n",
            " 1   gameDate         253 non-null    object\n",
            " 2   gameTimeEastern  253 non-null    object\n",
            " 3   homeTeamAbbr     253 non-null    object\n",
            " 4   visitorTeamAbbr  253 non-null    object\n",
            " 5   week             253 non-null    int64 \n",
            "dtypes: int64(2), object(4)\n",
            "memory usage: 12.0+ KB\n"
          ],
          "name": "stdout"
        }
      ]
    },
    {
      "cell_type": "code",
      "metadata": {
        "colab": {
          "base_uri": "https://localhost:8080/",
          "height": 294
        },
        "id": "LM9Qd5mPQLC-",
        "outputId": "6bee6ab7-b71c-4ac2-e157-be8469192b3f"
      },
      "source": [
        "games.describe()"
      ],
      "execution_count": null,
      "outputs": [
        {
          "output_type": "execute_result",
          "data": {
            "text/html": [
              "<div>\n",
              "<style scoped>\n",
              "    .dataframe tbody tr th:only-of-type {\n",
              "        vertical-align: middle;\n",
              "    }\n",
              "\n",
              "    .dataframe tbody tr th {\n",
              "        vertical-align: top;\n",
              "    }\n",
              "\n",
              "    .dataframe thead th {\n",
              "        text-align: right;\n",
              "    }\n",
              "</style>\n",
              "<table border=\"1\" class=\"dataframe\">\n",
              "  <thead>\n",
              "    <tr style=\"text-align: right;\">\n",
              "      <th></th>\n",
              "      <th>gameId</th>\n",
              "      <th>week</th>\n",
              "    </tr>\n",
              "  </thead>\n",
              "  <tbody>\n",
              "    <tr>\n",
              "      <th>count</th>\n",
              "      <td>2.530000e+02</td>\n",
              "      <td>253.000000</td>\n",
              "    </tr>\n",
              "    <tr>\n",
              "      <th>mean</th>\n",
              "      <td>2.018108e+09</td>\n",
              "      <td>9.122530</td>\n",
              "    </tr>\n",
              "    <tr>\n",
              "      <th>std</th>\n",
              "      <td>1.144901e+04</td>\n",
              "      <td>4.979801</td>\n",
              "    </tr>\n",
              "    <tr>\n",
              "      <th>min</th>\n",
              "      <td>2.018091e+09</td>\n",
              "      <td>1.000000</td>\n",
              "    </tr>\n",
              "    <tr>\n",
              "      <th>25%</th>\n",
              "      <td>2.018101e+09</td>\n",
              "      <td>5.000000</td>\n",
              "    </tr>\n",
              "    <tr>\n",
              "      <th>50%</th>\n",
              "      <td>2.018110e+09</td>\n",
              "      <td>9.000000</td>\n",
              "    </tr>\n",
              "    <tr>\n",
              "      <th>75%</th>\n",
              "      <td>2.018121e+09</td>\n",
              "      <td>14.000000</td>\n",
              "    </tr>\n",
              "    <tr>\n",
              "      <th>max</th>\n",
              "      <td>2.018123e+09</td>\n",
              "      <td>17.000000</td>\n",
              "    </tr>\n",
              "  </tbody>\n",
              "</table>\n",
              "</div>"
            ],
            "text/plain": [
              "             gameId        week\n",
              "count  2.530000e+02  253.000000\n",
              "mean   2.018108e+09    9.122530\n",
              "std    1.144901e+04    4.979801\n",
              "min    2.018091e+09    1.000000\n",
              "25%    2.018101e+09    5.000000\n",
              "50%    2.018110e+09    9.000000\n",
              "75%    2.018121e+09   14.000000\n",
              "max    2.018123e+09   17.000000"
            ]
          },
          "metadata": {
            "tags": []
          },
          "execution_count": 19
        }
      ]
    },
    {
      "cell_type": "code",
      "metadata": {
        "colab": {
          "base_uri": "https://localhost:8080/"
        },
        "id": "biWTapfmQLIm",
        "outputId": "60e27979-9496-4a80-b9c3-9223ce8008a4"
      },
      "source": [
        "games.isnull().sum()"
      ],
      "execution_count": null,
      "outputs": [
        {
          "output_type": "execute_result",
          "data": {
            "text/plain": [
              "gameId             0\n",
              "gameDate           0\n",
              "gameTimeEastern    0\n",
              "homeTeamAbbr       0\n",
              "visitorTeamAbbr    0\n",
              "week               0\n",
              "dtype: int64"
            ]
          },
          "metadata": {
            "tags": []
          },
          "execution_count": 20
        }
      ]
    },
    {
      "cell_type": "code",
      "metadata": {
        "id": "1BDTlpOYRFWw"
      },
      "source": [
        "# Countplot function\r\n",
        "def cnt(xname, df):\r\n",
        "    sns.countplot(x=xname, data = df)\r\n",
        "\r\n",
        "# Catplot function\r\n",
        "def cat(xname, df):\r\n",
        "    sns.catplot(x=xname, data = df)\r\n",
        "\r\n",
        "# Boxplot function\r\n",
        "def bxp(xname, df):\r\n",
        "    sns.boxplot(x=xname, data = df)"
      ],
      "execution_count": null,
      "outputs": []
    },
    {
      "cell_type": "code",
      "metadata": {
        "colab": {
          "base_uri": "https://localhost:8080/",
          "height": 279
        },
        "id": "fmicWKQ2RFZO",
        "outputId": "e2c5d514-6931-440c-b304-142fc94dd04c"
      },
      "source": [
        "cnt('week', games)"
      ],
      "execution_count": null,
      "outputs": [
        {
          "output_type": "display_data",
          "data": {
            "image/png": "[encoded data removed]",
            "text/plain": [
              "<Figure size 432x288 with 1 Axes>"
            ]
          },
          "metadata": {
            "tags": [],
            "needs_background": "light"
          }
        }
      ]
    },
    {
      "cell_type": "code",
      "metadata": {
        "colab": {
          "base_uri": "https://localhost:8080/",
          "height": 279
        },
        "id": "3K9Um0GLRFbi",
        "outputId": "dab846d9-1a50-4f65-e6b8-eff7f5d7e274"
      },
      "source": [
        "cnt('visitorTeamAbbr', games)"
      ],
      "execution_count": null,
      "outputs": [
        {
          "output_type": "display_data",
          "data": {
            "image/png": "[encoded data removed]",
            "text/plain": [
              "<Figure size 432x288 with 1 Axes>"
            ]
          },
          "metadata": {
            "tags": [],
            "needs_background": "light"
          }
        }
      ]
    },
    {
      "cell_type": "code",
      "metadata": {
        "colab": {
          "base_uri": "https://localhost:8080/",
          "height": 279
        },
        "id": "Z2Gpa15BVSWh",
        "outputId": "36183f2d-d3c7-439b-d914-8544ea8b2511"
      },
      "source": [
        "cnt('visitorTeamAbbr', games)"
      ],
      "execution_count": null,
      "outputs": [
        {
          "output_type": "display_data",
          "data": {
            "image/png": "[encoded data removed]",
            "text/plain": [
              "<Figure size 432x288 with 1 Axes>"
            ]
          },
          "metadata": {
            "tags": [],
            "needs_background": "light"
          }
        }
      ]
    },
    {
      "cell_type": "code",
      "metadata": {
        "colab": {
          "base_uri": "https://localhost:8080/"
        },
        "id": "OfDyrMFTWhZx",
        "outputId": "222be147-cd8b-4ece-c1e1-61cdd761c219"
      },
      "source": [
        "games.shape"
      ],
      "execution_count": null,
      "outputs": [
        {
          "output_type": "execute_result",
          "data": {
            "text/plain": [
              "(253, 6)"
            ]
          },
          "metadata": {
            "tags": []
          },
          "execution_count": 25
        }
      ]
    },
    {
      "cell_type": "code",
      "metadata": {
        "colab": {
          "base_uri": "https://localhost:8080/"
        },
        "id": "Por2A0_oR_v7",
        "outputId": "fd901574-9513-43cf-f89f-6c807aaa8414"
      },
      "source": [
        "games.gameDate.value_counts()\r\n"
      ],
      "execution_count": null,
      "outputs": [
        {
          "output_type": "execute_result",
          "data": {
            "text/plain": [
              "12/30/2018    16\n",
              "12/02/2018    14\n",
              "09/23/2018    14\n",
              "12/09/2018    14\n",
              "09/16/2018    14\n",
              "10/07/2018    13\n",
              "12/23/2018    13\n",
              "10/14/2018    13\n",
              "09/30/2018    13\n",
              "11/11/2018    12\n",
              "12/16/2018    12\n",
              "10/21/2018    12\n",
              "10/28/2018    12\n",
              "11/04/2018    11\n",
              "11/25/2018    11\n",
              "11/18/2018    11\n",
              "09/09/2018    10\n",
              "11/22/2018     3\n",
              "12/15/2018     2\n",
              "09/10/2018     2\n",
              "12/22/2018     2\n",
              "09/27/2018     1\n",
              "11/01/2018     1\n",
              "11/05/2018     1\n",
              "09/06/2018     1\n",
              "10/22/2018     1\n",
              "09/17/2018     1\n",
              "10/29/2018     1\n",
              "12/03/2018     1\n",
              "11/15/2018     1\n",
              "12/13/2018     1\n",
              "12/17/2018     1\n",
              "10/01/2018     1\n",
              "10/08/2018     1\n",
              "11/29/2018     1\n",
              "09/20/2018     1\n",
              "10/11/2018     1\n",
              "09/13/2018     1\n",
              "10/18/2018     1\n",
              "10/15/2018     1\n",
              "11/08/2018     1\n",
              "11/12/2018     1\n",
              "12/24/2018     1\n",
              "09/24/2018     1\n",
              "11/19/2018     1\n",
              "12/06/2018     1\n",
              "12/10/2018     1\n",
              "11/26/2018     1\n",
              "10/04/2018     1\n",
              "10/25/2018     1\n",
              "Name: gameDate, dtype: int64"
            ]
          },
          "metadata": {
            "tags": []
          },
          "execution_count": 26
        }
      ]
    },
    {
      "cell_type": "markdown",
      "metadata": {
        "id": "e9rzhv1eXNQT"
      },
      "source": [
        "**Players**"
      ]
    },
    {
      "cell_type": "code",
      "metadata": {
        "colab": {
          "base_uri": "https://localhost:8080/",
          "height": 141
        },
        "id": "a8_pijXkXfsw",
        "outputId": "67b66995-f6d8-4a7b-ff22-e11a81915758"
      },
      "source": [
        "players.head(3)"
      ],
      "execution_count": null,
      "outputs": [
        {
          "output_type": "execute_result",
          "data": {
            "text/html": [
              "<div>\n",
              "<style scoped>\n",
              "    .dataframe tbody tr th:only-of-type {\n",
              "        vertical-align: middle;\n",
              "    }\n",
              "\n",
              "    .dataframe tbody tr th {\n",
              "        vertical-align: top;\n",
              "    }\n",
              "\n",
              "    .dataframe thead th {\n",
              "        text-align: right;\n",
              "    }\n",
              "</style>\n",
              "<table border=\"1\" class=\"dataframe\">\n",
              "  <thead>\n",
              "    <tr style=\"text-align: right;\">\n",
              "      <th></th>\n",
              "      <th>nflId</th>\n",
              "      <th>height</th>\n",
              "      <th>weight</th>\n",
              "      <th>birthDate</th>\n",
              "      <th>collegeName</th>\n",
              "      <th>position</th>\n",
              "      <th>displayName</th>\n",
              "    </tr>\n",
              "  </thead>\n",
              "  <tbody>\n",
              "    <tr>\n",
              "      <th>0</th>\n",
              "      <td>2539334</td>\n",
              "      <td>72</td>\n",
              "      <td>190</td>\n",
              "      <td>1990-09-10</td>\n",
              "      <td>Washington</td>\n",
              "      <td>CB</td>\n",
              "      <td>Desmond Trufant</td>\n",
              "    </tr>\n",
              "    <tr>\n",
              "      <th>1</th>\n",
              "      <td>2539653</td>\n",
              "      <td>70</td>\n",
              "      <td>186</td>\n",
              "      <td>1988-11-01</td>\n",
              "      <td>Southeastern Louisiana</td>\n",
              "      <td>CB</td>\n",
              "      <td>Robert Alford</td>\n",
              "    </tr>\n",
              "    <tr>\n",
              "      <th>2</th>\n",
              "      <td>2543850</td>\n",
              "      <td>69</td>\n",
              "      <td>186</td>\n",
              "      <td>1991-12-18</td>\n",
              "      <td>Purdue</td>\n",
              "      <td>SS</td>\n",
              "      <td>Ricardo Allen</td>\n",
              "    </tr>\n",
              "  </tbody>\n",
              "</table>\n",
              "</div>"
            ],
            "text/plain": [
              "     nflId height  weight  ...             collegeName position      displayName\n",
              "0  2539334     72     190  ...              Washington       CB  Desmond Trufant\n",
              "1  2539653     70     186  ...  Southeastern Louisiana       CB    Robert Alford\n",
              "2  2543850     69     186  ...                  Purdue       SS    Ricardo Allen\n",
              "\n",
              "[3 rows x 7 columns]"
            ]
          },
          "metadata": {
            "tags": []
          },
          "execution_count": 27
        }
      ]
    },
    {
      "cell_type": "code",
      "metadata": {
        "colab": {
          "base_uri": "https://localhost:8080/",
          "height": 141
        },
        "id": "lAmaxZGIXfxC",
        "outputId": "330e0c09-2be0-45df-8a2a-5c80b0318bce"
      },
      "source": [
        "players.tail(3)"
      ],
      "execution_count": null,
      "outputs": [
        {
          "output_type": "execute_result",
          "data": {
            "text/html": [
              "<div>\n",
              "<style scoped>\n",
              "    .dataframe tbody tr th:only-of-type {\n",
              "        vertical-align: middle;\n",
              "    }\n",
              "\n",
              "    .dataframe tbody tr th {\n",
              "        vertical-align: top;\n",
              "    }\n",
              "\n",
              "    .dataframe thead th {\n",
              "        text-align: right;\n",
              "    }\n",
              "</style>\n",
              "<table border=\"1\" class=\"dataframe\">\n",
              "  <thead>\n",
              "    <tr style=\"text-align: right;\">\n",
              "      <th></th>\n",
              "      <th>nflId</th>\n",
              "      <th>height</th>\n",
              "      <th>weight</th>\n",
              "      <th>birthDate</th>\n",
              "      <th>collegeName</th>\n",
              "      <th>position</th>\n",
              "      <th>displayName</th>\n",
              "    </tr>\n",
              "  </thead>\n",
              "  <tbody>\n",
              "    <tr>\n",
              "      <th>1300</th>\n",
              "      <td>2552576</td>\n",
              "      <td>78</td>\n",
              "      <td>231</td>\n",
              "      <td>1992-04-25</td>\n",
              "      <td>Oregon State</td>\n",
              "      <td>QB</td>\n",
              "      <td>Sean Mannion</td>\n",
              "    </tr>\n",
              "    <tr>\n",
              "      <th>1301</th>\n",
              "      <td>2561469</td>\n",
              "      <td>69</td>\n",
              "      <td>187</td>\n",
              "      <td>1993-03-15</td>\n",
              "      <td>Alabama-Birmingham</td>\n",
              "      <td>CB</td>\n",
              "      <td>Darious Williams</td>\n",
              "    </tr>\n",
              "    <tr>\n",
              "      <th>1302</th>\n",
              "      <td>2558095</td>\n",
              "      <td>6-2</td>\n",
              "      <td>196</td>\n",
              "      <td>10/12/1995</td>\n",
              "      <td>LSU</td>\n",
              "      <td>WR</td>\n",
              "      <td>Malachi Dupre</td>\n",
              "    </tr>\n",
              "  </tbody>\n",
              "</table>\n",
              "</div>"
            ],
            "text/plain": [
              "        nflId height  weight  ...         collegeName position       displayName\n",
              "1300  2552576     78     231  ...        Oregon State       QB      Sean Mannion\n",
              "1301  2561469     69     187  ...  Alabama-Birmingham       CB  Darious Williams\n",
              "1302  2558095    6-2     196  ...                 LSU       WR     Malachi Dupre\n",
              "\n",
              "[3 rows x 7 columns]"
            ]
          },
          "metadata": {
            "tags": []
          },
          "execution_count": 28
        }
      ]
    },
    {
      "cell_type": "code",
      "metadata": {
        "colab": {
          "base_uri": "https://localhost:8080/"
        },
        "id": "2nhNqW9KXf1o",
        "outputId": "f9d9a2ab-d73d-4421-b762-3bdc11c0e498"
      },
      "source": [
        "players.shape"
      ],
      "execution_count": null,
      "outputs": [
        {
          "output_type": "execute_result",
          "data": {
            "text/plain": [
              "(1303, 7)"
            ]
          },
          "metadata": {
            "tags": []
          },
          "execution_count": 29
        }
      ]
    },
    {
      "cell_type": "code",
      "metadata": {
        "colab": {
          "base_uri": "https://localhost:8080/"
        },
        "id": "3e3moEbcXf4D",
        "outputId": "00da2cd7-1169-4d33-f771-ca0d2ff51760"
      },
      "source": [
        "players.info()"
      ],
      "execution_count": null,
      "outputs": [
        {
          "output_type": "stream",
          "text": [
            "<class 'pandas.core.frame.DataFrame'>\n",
            "RangeIndex: 1303 entries, 0 to 1302\n",
            "Data columns (total 7 columns):\n",
            " #   Column       Non-Null Count  Dtype \n",
            "---  ------       --------------  ----- \n",
            " 0   nflId        1303 non-null   int64 \n",
            " 1   height       1303 non-null   object\n",
            " 2   weight       1303 non-null   int64 \n",
            " 3   birthDate    1303 non-null   object\n",
            " 4   collegeName  1303 non-null   object\n",
            " 5   position     1303 non-null   object\n",
            " 6   displayName  1303 non-null   object\n",
            "dtypes: int64(2), object(5)\n",
            "memory usage: 71.4+ KB\n"
          ],
          "name": "stdout"
        }
      ]
    },
    {
      "cell_type": "code",
      "metadata": {
        "colab": {
          "base_uri": "https://localhost:8080/",
          "height": 294
        },
        "id": "yPrDzgD8Xo1r",
        "outputId": "703e8444-5b8e-45b1-e7ad-e40accd53487"
      },
      "source": [
        "players.describe()"
      ],
      "execution_count": null,
      "outputs": [
        {
          "output_type": "execute_result",
          "data": {
            "text/html": [
              "<div>\n",
              "<style scoped>\n",
              "    .dataframe tbody tr th:only-of-type {\n",
              "        vertical-align: middle;\n",
              "    }\n",
              "\n",
              "    .dataframe tbody tr th {\n",
              "        vertical-align: top;\n",
              "    }\n",
              "\n",
              "    .dataframe thead th {\n",
              "        text-align: right;\n",
              "    }\n",
              "</style>\n",
              "<table border=\"1\" class=\"dataframe\">\n",
              "  <thead>\n",
              "    <tr style=\"text-align: right;\">\n",
              "      <th></th>\n",
              "      <th>nflId</th>\n",
              "      <th>weight</th>\n",
              "    </tr>\n",
              "  </thead>\n",
              "  <tbody>\n",
              "    <tr>\n",
              "      <th>count</th>\n",
              "      <td>1.303000e+03</td>\n",
              "      <td>1303.000000</td>\n",
              "    </tr>\n",
              "    <tr>\n",
              "      <th>mean</th>\n",
              "      <td>2.416518e+06</td>\n",
              "      <td>222.537222</td>\n",
              "    </tr>\n",
              "    <tr>\n",
              "      <th>std</th>\n",
              "      <td>5.333335e+05</td>\n",
              "      <td>29.476747</td>\n",
              "    </tr>\n",
              "    <tr>\n",
              "      <th>min</th>\n",
              "      <td>2.520000e+02</td>\n",
              "      <td>159.000000</td>\n",
              "    </tr>\n",
              "    <tr>\n",
              "      <th>25%</th>\n",
              "      <td>2.539662e+06</td>\n",
              "      <td>200.000000</td>\n",
              "    </tr>\n",
              "    <tr>\n",
              "      <th>50%</th>\n",
              "      <td>2.553658e+06</td>\n",
              "      <td>216.000000</td>\n",
              "    </tr>\n",
              "    <tr>\n",
              "      <th>75%</th>\n",
              "      <td>2.558184e+06</td>\n",
              "      <td>242.000000</td>\n",
              "    </tr>\n",
              "    <tr>\n",
              "      <th>max</th>\n",
              "      <td>2.561671e+06</td>\n",
              "      <td>352.000000</td>\n",
              "    </tr>\n",
              "  </tbody>\n",
              "</table>\n",
              "</div>"
            ],
            "text/plain": [
              "              nflId       weight\n",
              "count  1.303000e+03  1303.000000\n",
              "mean   2.416518e+06   222.537222\n",
              "std    5.333335e+05    29.476747\n",
              "min    2.520000e+02   159.000000\n",
              "25%    2.539662e+06   200.000000\n",
              "50%    2.553658e+06   216.000000\n",
              "75%    2.558184e+06   242.000000\n",
              "max    2.561671e+06   352.000000"
            ]
          },
          "metadata": {
            "tags": []
          },
          "execution_count": 31
        }
      ]
    },
    {
      "cell_type": "code",
      "metadata": {
        "colab": {
          "base_uri": "https://localhost:8080/"
        },
        "id": "NRHHZoDfXo3z",
        "outputId": "52199c0d-b45b-4c20-fbd9-5f2b0bcd9c5f"
      },
      "source": [
        "players.isnull().sum()"
      ],
      "execution_count": null,
      "outputs": [
        {
          "output_type": "execute_result",
          "data": {
            "text/plain": [
              "nflId          0\n",
              "height         0\n",
              "weight         0\n",
              "birthDate      0\n",
              "collegeName    0\n",
              "position       0\n",
              "displayName    0\n",
              "dtype: int64"
            ]
          },
          "metadata": {
            "tags": []
          },
          "execution_count": 32
        }
      ]
    },
    {
      "cell_type": "code",
      "metadata": {
        "colab": {
          "base_uri": "https://localhost:8080/",
          "height": 279
        },
        "id": "JK4qedgM0-k5",
        "outputId": "ba69e539-79d8-4b17-a5ce-6c2b0ccc547d"
      },
      "source": [
        "cnt(\"height\", players)"
      ],
      "execution_count": null,
      "outputs": [
        {
          "output_type": "display_data",
          "data": {
            "image/png": "[encoded data removed]",
            "text/plain": [
              "<Figure size 432x288 with 1 Axes>"
            ]
          },
          "metadata": {
            "tags": [],
            "needs_background": "light"
          }
        }
      ]
    },
    {
      "cell_type": "code",
      "metadata": {
        "colab": {
          "base_uri": "https://localhost:8080/",
          "height": 279
        },
        "id": "m_nmuE421G_K",
        "outputId": "79e343ae-9b6a-4b82-9002-2557d37b4b8f"
      },
      "source": [
        "bxp(\"weight\", players)"
      ],
      "execution_count": null,
      "outputs": [
        {
          "output_type": "display_data",
          "data": {
            "image/png": "[encoded data removed]",
            "text/plain": [
              "<Figure size 432x288 with 1 Axes>"
            ]
          },
          "metadata": {
            "tags": [],
            "needs_background": "light"
          }
        }
      ]
    },
    {
      "cell_type": "code",
      "metadata": {
        "colab": {
          "base_uri": "https://localhost:8080/",
          "height": 279
        },
        "id": "bF9nCjNtXo65",
        "outputId": "615930eb-6f23-4d61-e0d1-c480ba41bc03"
      },
      "source": [
        "cnt(\"collegeName\", players)\r\n"
      ],
      "execution_count": null,
      "outputs": [
        {
          "output_type": "display_data",
          "data": {
            "image/png": "[encoded data removed]",
            "text/plain": [
              "<Figure size 432x288 with 1 Axes>"
            ]
          },
          "metadata": {
            "tags": [],
            "needs_background": "light"
          }
        }
      ]
    },
    {
      "cell_type": "code",
      "metadata": {
        "colab": {
          "base_uri": "https://localhost:8080/"
        },
        "id": "M4pFpIW41Tt5",
        "outputId": "caa2dea8-e8c4-42e8-c348-16d341be3166"
      },
      "source": [
        "players.collegeName.value_counts()"
      ],
      "execution_count": null,
      "outputs": [
        {
          "output_type": "execute_result",
          "data": {
            "text/plain": [
              "Alabama                   33\n",
              "Ohio State                28\n",
              "Florida State             27\n",
              "Florida                   26\n",
              "Louisiana State           25\n",
              "                          ..\n",
              "Miami, O.                  1\n",
              "Colorado State-Pueblo      1\n",
              "Virginia Commonwealth      1\n",
              "North Carolina Central     1\n",
              "Howard                     1\n",
              "Name: collegeName, Length: 251, dtype: int64"
            ]
          },
          "metadata": {
            "tags": []
          },
          "execution_count": 92
        }
      ]
    },
    {
      "cell_type": "code",
      "metadata": {
        "colab": {
          "base_uri": "https://localhost:8080/",
          "height": 279
        },
        "id": "6uF_HxtmXo9p",
        "outputId": "f05482ce-46f7-4052-fceb-b2a374f28c10"
      },
      "source": [
        "cnt(\"position\", players)"
      ],
      "execution_count": null,
      "outputs": [
        {
          "output_type": "display_data",
          "data": {
            "image/png": "[encoded data removed]",
            "text/plain": [
              "<Figure size 432x288 with 1 Axes>"
            ]
          },
          "metadata": {
            "tags": [],
            "needs_background": "light"
          }
        }
      ]
    },
    {
      "cell_type": "markdown",
      "metadata": {
        "id": "xkB9el6fXTm1"
      },
      "source": [
        "**Plays**"
      ]
    },
    {
      "cell_type": "code",
      "metadata": {
        "colab": {
          "base_uri": "https://localhost:8080/",
          "height": 265
        },
        "id": "e2AYDhq0Xgdz",
        "outputId": "c0cc518b-4a21-497e-dfa0-63869d5b53b4"
      },
      "source": [
        "plays.head(3)"
      ],
      "execution_count": null,
      "outputs": [
        {
          "output_type": "execute_result",
          "data": {
            "text/html": [
              "<div>\n",
              "<style scoped>\n",
              "    .dataframe tbody tr th:only-of-type {\n",
              "        vertical-align: middle;\n",
              "    }\n",
              "\n",
              "    .dataframe tbody tr th {\n",
              "        vertical-align: top;\n",
              "    }\n",
              "\n",
              "    .dataframe thead th {\n",
              "        text-align: right;\n",
              "    }\n",
              "</style>\n",
              "<table border=\"1\" class=\"dataframe\">\n",
              "  <thead>\n",
              "    <tr style=\"text-align: right;\">\n",
              "      <th></th>\n",
              "      <th>gameId</th>\n",
              "      <th>playId</th>\n",
              "      <th>playDescription</th>\n",
              "      <th>quarter</th>\n",
              "      <th>down</th>\n",
              "      <th>yardsToGo</th>\n",
              "      <th>possessionTeam</th>\n",
              "      <th>playType</th>\n",
              "      <th>yardlineSide</th>\n",
              "      <th>yardlineNumber</th>\n",
              "      <th>offenseFormation</th>\n",
              "      <th>personnelO</th>\n",
              "      <th>defendersInTheBox</th>\n",
              "      <th>numberOfPassRushers</th>\n",
              "      <th>personnelD</th>\n",
              "      <th>typeDropback</th>\n",
              "      <th>preSnapVisitorScore</th>\n",
              "      <th>preSnapHomeScore</th>\n",
              "      <th>gameClock</th>\n",
              "      <th>absoluteYardlineNumber</th>\n",
              "      <th>penaltyCodes</th>\n",
              "      <th>penaltyJerseyNumbers</th>\n",
              "      <th>passResult</th>\n",
              "      <th>offensePlayResult</th>\n",
              "      <th>playResult</th>\n",
              "      <th>epa</th>\n",
              "      <th>isDefensivePI</th>\n",
              "    </tr>\n",
              "  </thead>\n",
              "  <tbody>\n",
              "    <tr>\n",
              "      <th>0</th>\n",
              "      <td>2018090600</td>\n",
              "      <td>75</td>\n",
              "      <td>(15:00) M.Ryan pass short right to J.Jones pus...</td>\n",
              "      <td>1</td>\n",
              "      <td>1</td>\n",
              "      <td>15</td>\n",
              "      <td>ATL</td>\n",
              "      <td>play_type_pass</td>\n",
              "      <td>ATL</td>\n",
              "      <td>20</td>\n",
              "      <td>I_FORM</td>\n",
              "      <td>2 RB, 1 TE, 2 WR</td>\n",
              "      <td>7.0</td>\n",
              "      <td>4.0</td>\n",
              "      <td>4 DL, 2 LB, 5 DB</td>\n",
              "      <td>TRADITIONAL</td>\n",
              "      <td>0.0</td>\n",
              "      <td>0.0</td>\n",
              "      <td>15:00:00</td>\n",
              "      <td>90.0</td>\n",
              "      <td>None</td>\n",
              "      <td>None</td>\n",
              "      <td>C</td>\n",
              "      <td>10</td>\n",
              "      <td>10</td>\n",
              "      <td>0.261827</td>\n",
              "      <td>False</td>\n",
              "    </tr>\n",
              "    <tr>\n",
              "      <th>1</th>\n",
              "      <td>2018090600</td>\n",
              "      <td>146</td>\n",
              "      <td>(13:10) M.Ryan pass incomplete short right to ...</td>\n",
              "      <td>1</td>\n",
              "      <td>1</td>\n",
              "      <td>10</td>\n",
              "      <td>ATL</td>\n",
              "      <td>play_type_pass</td>\n",
              "      <td>PHI</td>\n",
              "      <td>39</td>\n",
              "      <td>SINGLEBACK</td>\n",
              "      <td>1 RB, 1 TE, 3 WR</td>\n",
              "      <td>7.0</td>\n",
              "      <td>4.0</td>\n",
              "      <td>4 DL, 2 LB, 5 DB</td>\n",
              "      <td>TRADITIONAL</td>\n",
              "      <td>0.0</td>\n",
              "      <td>0.0</td>\n",
              "      <td>13:10:00</td>\n",
              "      <td>49.0</td>\n",
              "      <td>None</td>\n",
              "      <td>None</td>\n",
              "      <td>I</td>\n",
              "      <td>0</td>\n",
              "      <td>0</td>\n",
              "      <td>-0.372360</td>\n",
              "      <td>False</td>\n",
              "    </tr>\n",
              "    <tr>\n",
              "      <th>2</th>\n",
              "      <td>2018090600</td>\n",
              "      <td>168</td>\n",
              "      <td>(13:05) (Shotgun) M.Ryan pass incomplete short...</td>\n",
              "      <td>1</td>\n",
              "      <td>2</td>\n",
              "      <td>10</td>\n",
              "      <td>ATL</td>\n",
              "      <td>play_type_pass</td>\n",
              "      <td>PHI</td>\n",
              "      <td>39</td>\n",
              "      <td>SHOTGUN</td>\n",
              "      <td>2 RB, 1 TE, 2 WR</td>\n",
              "      <td>6.0</td>\n",
              "      <td>4.0</td>\n",
              "      <td>4 DL, 2 LB, 5 DB</td>\n",
              "      <td>TRADITIONAL</td>\n",
              "      <td>0.0</td>\n",
              "      <td>0.0</td>\n",
              "      <td>13:05:00</td>\n",
              "      <td>49.0</td>\n",
              "      <td>None</td>\n",
              "      <td>None</td>\n",
              "      <td>I</td>\n",
              "      <td>0</td>\n",
              "      <td>0</td>\n",
              "      <td>-0.702779</td>\n",
              "      <td>False</td>\n",
              "    </tr>\n",
              "  </tbody>\n",
              "</table>\n",
              "</div>"
            ],
            "text/plain": [
              "       gameId  playId  ...       epa  isDefensivePI\n",
              "0  2018090600      75  ...  0.261827          False\n",
              "1  2018090600     146  ... -0.372360          False\n",
              "2  2018090600     168  ... -0.702779          False\n",
              "\n",
              "[3 rows x 27 columns]"
            ]
          },
          "metadata": {
            "tags": []
          },
          "execution_count": 35
        }
      ]
    },
    {
      "cell_type": "code",
      "metadata": {
        "colab": {
          "base_uri": "https://localhost:8080/",
          "height": 265
        },
        "id": "gJf3eNFGoRn9",
        "outputId": "fd154a43-7d17-4553-883e-4139eea51a08"
      },
      "source": [
        "plays.tail(3)"
      ],
      "execution_count": null,
      "outputs": [
        {
          "output_type": "execute_result",
          "data": {
            "text/html": [
              "<div>\n",
              "<style scoped>\n",
              "    .dataframe tbody tr th:only-of-type {\n",
              "        vertical-align: middle;\n",
              "    }\n",
              "\n",
              "    .dataframe tbody tr th {\n",
              "        vertical-align: top;\n",
              "    }\n",
              "\n",
              "    .dataframe thead th {\n",
              "        text-align: right;\n",
              "    }\n",
              "</style>\n",
              "<table border=\"1\" class=\"dataframe\">\n",
              "  <thead>\n",
              "    <tr style=\"text-align: right;\">\n",
              "      <th></th>\n",
              "      <th>gameId</th>\n",
              "      <th>playId</th>\n",
              "      <th>playDescription</th>\n",
              "      <th>quarter</th>\n",
              "      <th>down</th>\n",
              "      <th>yardsToGo</th>\n",
              "      <th>possessionTeam</th>\n",
              "      <th>playType</th>\n",
              "      <th>yardlineSide</th>\n",
              "      <th>yardlineNumber</th>\n",
              "      <th>offenseFormation</th>\n",
              "      <th>personnelO</th>\n",
              "      <th>defendersInTheBox</th>\n",
              "      <th>numberOfPassRushers</th>\n",
              "      <th>personnelD</th>\n",
              "      <th>typeDropback</th>\n",
              "      <th>preSnapVisitorScore</th>\n",
              "      <th>preSnapHomeScore</th>\n",
              "      <th>gameClock</th>\n",
              "      <th>absoluteYardlineNumber</th>\n",
              "      <th>penaltyCodes</th>\n",
              "      <th>penaltyJerseyNumbers</th>\n",
              "      <th>passResult</th>\n",
              "      <th>offensePlayResult</th>\n",
              "      <th>playResult</th>\n",
              "      <th>epa</th>\n",
              "      <th>isDefensivePI</th>\n",
              "    </tr>\n",
              "  </thead>\n",
              "  <tbody>\n",
              "    <tr>\n",
              "      <th>19236</th>\n",
              "      <td>2018122201</td>\n",
              "      <td>566</td>\n",
              "      <td>(5:32) (Shotgun) P.Rivers pass deep right to K...</td>\n",
              "      <td>1</td>\n",
              "      <td>3</td>\n",
              "      <td>4</td>\n",
              "      <td>LAC</td>\n",
              "      <td>play_type_unknown</td>\n",
              "      <td>LAC</td>\n",
              "      <td>49</td>\n",
              "      <td>SHOTGUN</td>\n",
              "      <td>1 RB, 1 TE, 3 WR</td>\n",
              "      <td>6.0</td>\n",
              "      <td>NaN</td>\n",
              "      <td>1 DL, 5 LB, 5 DB</td>\n",
              "      <td>None</td>\n",
              "      <td>NaN</td>\n",
              "      <td>NaN</td>\n",
              "      <td>None</td>\n",
              "      <td>NaN</td>\n",
              "      <td>OPI</td>\n",
              "      <td>LAC 13</td>\n",
              "      <td>C</td>\n",
              "      <td>27</td>\n",
              "      <td>-10</td>\n",
              "      <td>-0.720168</td>\n",
              "      <td>False</td>\n",
              "    </tr>\n",
              "    <tr>\n",
              "      <th>19237</th>\n",
              "      <td>2018122201</td>\n",
              "      <td>1719</td>\n",
              "      <td>(1:08) P.Rivers pass incomplete deep middle to...</td>\n",
              "      <td>2</td>\n",
              "      <td>3</td>\n",
              "      <td>1</td>\n",
              "      <td>LAC</td>\n",
              "      <td>play_type_unknown</td>\n",
              "      <td>LAC</td>\n",
              "      <td>48</td>\n",
              "      <td>SINGLEBACK</td>\n",
              "      <td>1 RB, 1 TE, 3 WR</td>\n",
              "      <td>7.0</td>\n",
              "      <td>NaN</td>\n",
              "      <td>2 DL, 3 LB, 6 DB</td>\n",
              "      <td>None</td>\n",
              "      <td>NaN</td>\n",
              "      <td>NaN</td>\n",
              "      <td>None</td>\n",
              "      <td>NaN</td>\n",
              "      <td>DPI</td>\n",
              "      <td>BAL 23</td>\n",
              "      <td>I</td>\n",
              "      <td>0</td>\n",
              "      <td>15</td>\n",
              "      <td>1.336078</td>\n",
              "      <td>True</td>\n",
              "    </tr>\n",
              "    <tr>\n",
              "      <th>19238</th>\n",
              "      <td>2018122201</td>\n",
              "      <td>2649</td>\n",
              "      <td>(7:16) (Shotgun) L.Jackson pass incomplete sho...</td>\n",
              "      <td>3</td>\n",
              "      <td>1</td>\n",
              "      <td>10</td>\n",
              "      <td>BAL</td>\n",
              "      <td>play_type_unknown</td>\n",
              "      <td>LAC</td>\n",
              "      <td>49</td>\n",
              "      <td>SHOTGUN</td>\n",
              "      <td>1 RB, 1 TE, 3 WR</td>\n",
              "      <td>6.0</td>\n",
              "      <td>NaN</td>\n",
              "      <td>4 DL, 1 LB, 6 DB</td>\n",
              "      <td>None</td>\n",
              "      <td>NaN</td>\n",
              "      <td>NaN</td>\n",
              "      <td>None</td>\n",
              "      <td>NaN</td>\n",
              "      <td>DPI</td>\n",
              "      <td>LAC 43</td>\n",
              "      <td>I</td>\n",
              "      <td>0</td>\n",
              "      <td>9</td>\n",
              "      <td>0.550256</td>\n",
              "      <td>True</td>\n",
              "    </tr>\n",
              "  </tbody>\n",
              "</table>\n",
              "</div>"
            ],
            "text/plain": [
              "           gameId  playId  ...       epa  isDefensivePI\n",
              "19236  2018122201     566  ... -0.720168          False\n",
              "19237  2018122201    1719  ...  1.336078           True\n",
              "19238  2018122201    2649  ...  0.550256           True\n",
              "\n",
              "[3 rows x 27 columns]"
            ]
          },
          "metadata": {
            "tags": []
          },
          "execution_count": 36
        }
      ]
    },
    {
      "cell_type": "code",
      "metadata": {
        "colab": {
          "base_uri": "https://localhost:8080/"
        },
        "id": "zDWPpsNCoRoS",
        "outputId": "9fbae32a-00fb-4379-a788-61aaeed48c9b"
      },
      "source": [
        "plays.shape"
      ],
      "execution_count": null,
      "outputs": [
        {
          "output_type": "execute_result",
          "data": {
            "text/plain": [
              "(19239, 27)"
            ]
          },
          "metadata": {
            "tags": []
          },
          "execution_count": 37
        }
      ]
    },
    {
      "cell_type": "code",
      "metadata": {
        "colab": {
          "base_uri": "https://localhost:8080/"
        },
        "id": "HYWLB8kCoRoT",
        "outputId": "d8f27cef-2f1b-4826-e374-defe195628e0"
      },
      "source": [
        "plays.info()"
      ],
      "execution_count": null,
      "outputs": [
        {
          "output_type": "stream",
          "text": [
            "<class 'pandas.core.frame.DataFrame'>\n",
            "RangeIndex: 19239 entries, 0 to 19238\n",
            "Data columns (total 27 columns):\n",
            " #   Column                  Non-Null Count  Dtype  \n",
            "---  ------                  --------------  -----  \n",
            " 0   gameId                  19239 non-null  int64  \n",
            " 1   playId                  19239 non-null  int64  \n",
            " 2   playDescription         19239 non-null  object \n",
            " 3   quarter                 19239 non-null  int64  \n",
            " 4   down                    19239 non-null  int64  \n",
            " 5   yardsToGo               19239 non-null  int64  \n",
            " 6   possessionTeam          19239 non-null  object \n",
            " 7   playType                19239 non-null  object \n",
            " 8   yardlineSide            18985 non-null  object \n",
            " 9   yardlineNumber          19239 non-null  int64  \n",
            " 10  offenseFormation        19098 non-null  object \n",
            " 11  personnelO              19210 non-null  object \n",
            " 12  defendersInTheBox       19177 non-null  float64\n",
            " 13  numberOfPassRushers     18606 non-null  float64\n",
            " 14  personnelD              19210 non-null  object \n",
            " 15  typeDropback            18600 non-null  object \n",
            " 16  preSnapVisitorScore     18600 non-null  float64\n",
            " 17  preSnapHomeScore        18600 non-null  float64\n",
            " 18  gameClock               18600 non-null  object \n",
            " 19  absoluteYardlineNumber  18600 non-null  float64\n",
            " 20  penaltyCodes            1206 non-null   object \n",
            " 21  penaltyJerseyNumbers    1206 non-null   object \n",
            " 22  passResult              19237 non-null  object \n",
            " 23  offensePlayResult       19239 non-null  int64  \n",
            " 24  playResult              19239 non-null  int64  \n",
            " 25  epa                     19239 non-null  float64\n",
            " 26  isDefensivePI           19239 non-null  bool   \n",
            "dtypes: bool(1), float64(6), int64(8), object(12)\n",
            "memory usage: 3.8+ MB\n"
          ],
          "name": "stdout"
        }
      ]
    },
    {
      "cell_type": "code",
      "metadata": {
        "colab": {
          "base_uri": "https://localhost:8080/",
          "height": 314
        },
        "id": "k2-YGupBoRoV",
        "outputId": "df4be461-8c42-4b7e-99c4-9f131df3e13e"
      },
      "source": [
        "plays.describe()"
      ],
      "execution_count": null,
      "outputs": [
        {
          "output_type": "execute_result",
          "data": {
            "text/html": [
              "<div>\n",
              "<style scoped>\n",
              "    .dataframe tbody tr th:only-of-type {\n",
              "        vertical-align: middle;\n",
              "    }\n",
              "\n",
              "    .dataframe tbody tr th {\n",
              "        vertical-align: top;\n",
              "    }\n",
              "\n",
              "    .dataframe thead th {\n",
              "        text-align: right;\n",
              "    }\n",
              "</style>\n",
              "<table border=\"1\" class=\"dataframe\">\n",
              "  <thead>\n",
              "    <tr style=\"text-align: right;\">\n",
              "      <th></th>\n",
              "      <th>gameId</th>\n",
              "      <th>playId</th>\n",
              "      <th>quarter</th>\n",
              "      <th>down</th>\n",
              "      <th>yardsToGo</th>\n",
              "      <th>yardlineNumber</th>\n",
              "      <th>defendersInTheBox</th>\n",
              "      <th>numberOfPassRushers</th>\n",
              "      <th>preSnapVisitorScore</th>\n",
              "      <th>preSnapHomeScore</th>\n",
              "      <th>absoluteYardlineNumber</th>\n",
              "      <th>offensePlayResult</th>\n",
              "      <th>playResult</th>\n",
              "      <th>epa</th>\n",
              "    </tr>\n",
              "  </thead>\n",
              "  <tbody>\n",
              "    <tr>\n",
              "      <th>count</th>\n",
              "      <td>1.923900e+04</td>\n",
              "      <td>19239.000000</td>\n",
              "      <td>19239.000000</td>\n",
              "      <td>19239.000000</td>\n",
              "      <td>19239.000000</td>\n",
              "      <td>19239.000000</td>\n",
              "      <td>19177.000000</td>\n",
              "      <td>18606.000000</td>\n",
              "      <td>18600.000000</td>\n",
              "      <td>18600.000000</td>\n",
              "      <td>18600.000000</td>\n",
              "      <td>19239.000000</td>\n",
              "      <td>19239.000000</td>\n",
              "      <td>19239.000000</td>\n",
              "    </tr>\n",
              "    <tr>\n",
              "      <th>mean</th>\n",
              "      <td>2.018107e+09</td>\n",
              "      <td>2176.217319</td>\n",
              "      <td>2.591039</td>\n",
              "      <td>1.920318</td>\n",
              "      <td>8.923905</td>\n",
              "      <td>29.860232</td>\n",
              "      <td>6.036189</td>\n",
              "      <td>4.216543</td>\n",
              "      <td>10.758333</td>\n",
              "      <td>12.465484</td>\n",
              "      <td>59.905753</td>\n",
              "      <td>6.279380</td>\n",
              "      <td>6.469047</td>\n",
              "      <td>0.020725</td>\n",
              "    </tr>\n",
              "    <tr>\n",
              "      <th>std</th>\n",
              "      <td>1.148060e+04</td>\n",
              "      <td>1240.919041</td>\n",
              "      <td>1.123155</td>\n",
              "      <td>0.848819</td>\n",
              "      <td>3.974216</td>\n",
              "      <td>12.444118</td>\n",
              "      <td>1.015547</td>\n",
              "      <td>0.897862</td>\n",
              "      <td>9.798115</td>\n",
              "      <td>10.552753</td>\n",
              "      <td>23.641588</td>\n",
              "      <td>10.184296</td>\n",
              "      <td>10.566605</td>\n",
              "      <td>1.580748</td>\n",
              "    </tr>\n",
              "    <tr>\n",
              "      <th>min</th>\n",
              "      <td>2.018091e+09</td>\n",
              "      <td>50.000000</td>\n",
              "      <td>1.000000</td>\n",
              "      <td>1.000000</td>\n",
              "      <td>1.000000</td>\n",
              "      <td>1.000000</td>\n",
              "      <td>1.000000</td>\n",
              "      <td>0.000000</td>\n",
              "      <td>0.000000</td>\n",
              "      <td>0.000000</td>\n",
              "      <td>11.000000</td>\n",
              "      <td>-19.000000</td>\n",
              "      <td>-78.000000</td>\n",
              "      <td>-11.935951</td>\n",
              "    </tr>\n",
              "    <tr>\n",
              "      <th>25%</th>\n",
              "      <td>2.018100e+09</td>\n",
              "      <td>1125.000000</td>\n",
              "      <td>2.000000</td>\n",
              "      <td>1.000000</td>\n",
              "      <td>6.000000</td>\n",
              "      <td>21.500000</td>\n",
              "      <td>6.000000</td>\n",
              "      <td>4.000000</td>\n",
              "      <td>3.000000</td>\n",
              "      <td>3.000000</td>\n",
              "      <td>40.000000</td>\n",
              "      <td>0.000000</td>\n",
              "      <td>0.000000</td>\n",
              "      <td>-0.745327</td>\n",
              "    </tr>\n",
              "    <tr>\n",
              "      <th>50%</th>\n",
              "      <td>2.018110e+09</td>\n",
              "      <td>2166.000000</td>\n",
              "      <td>3.000000</td>\n",
              "      <td>2.000000</td>\n",
              "      <td>10.000000</td>\n",
              "      <td>30.000000</td>\n",
              "      <td>6.000000</td>\n",
              "      <td>4.000000</td>\n",
              "      <td>9.000000</td>\n",
              "      <td>10.000000</td>\n",
              "      <td>60.000000</td>\n",
              "      <td>4.000000</td>\n",
              "      <td>4.000000</td>\n",
              "      <td>-0.190540</td>\n",
              "    </tr>\n",
              "    <tr>\n",
              "      <th>75%</th>\n",
              "      <td>2.018120e+09</td>\n",
              "      <td>3203.500000</td>\n",
              "      <td>4.000000</td>\n",
              "      <td>3.000000</td>\n",
              "      <td>10.000000</td>\n",
              "      <td>40.000000</td>\n",
              "      <td>7.000000</td>\n",
              "      <td>5.000000</td>\n",
              "      <td>17.000000</td>\n",
              "      <td>20.000000</td>\n",
              "      <td>80.000000</td>\n",
              "      <td>10.000000</td>\n",
              "      <td>11.000000</td>\n",
              "      <td>0.976822</td>\n",
              "    </tr>\n",
              "    <tr>\n",
              "      <th>max</th>\n",
              "      <td>2.018123e+09</td>\n",
              "      <td>5661.000000</td>\n",
              "      <td>5.000000</td>\n",
              "      <td>4.000000</td>\n",
              "      <td>41.000000</td>\n",
              "      <td>50.000000</td>\n",
              "      <td>11.000000</td>\n",
              "      <td>10.000000</td>\n",
              "      <td>51.000000</td>\n",
              "      <td>54.000000</td>\n",
              "      <td>109.000000</td>\n",
              "      <td>97.000000</td>\n",
              "      <td>97.000000</td>\n",
              "      <td>8.629316</td>\n",
              "    </tr>\n",
              "  </tbody>\n",
              "</table>\n",
              "</div>"
            ],
            "text/plain": [
              "             gameId        playId  ...    playResult           epa\n",
              "count  1.923900e+04  19239.000000  ...  19239.000000  19239.000000\n",
              "mean   2.018107e+09   2176.217319  ...      6.469047      0.020725\n",
              "std    1.148060e+04   1240.919041  ...     10.566605      1.580748\n",
              "min    2.018091e+09     50.000000  ...    -78.000000    -11.935951\n",
              "25%    2.018100e+09   1125.000000  ...      0.000000     -0.745327\n",
              "50%    2.018110e+09   2166.000000  ...      4.000000     -0.190540\n",
              "75%    2.018120e+09   3203.500000  ...     11.000000      0.976822\n",
              "max    2.018123e+09   5661.000000  ...     97.000000      8.629316\n",
              "\n",
              "[8 rows x 14 columns]"
            ]
          },
          "metadata": {
            "tags": []
          },
          "execution_count": 39
        }
      ]
    },
    {
      "cell_type": "code",
      "metadata": {
        "colab": {
          "base_uri": "https://localhost:8080/"
        },
        "id": "dXAj1fYqoRoX",
        "outputId": "d5606f48-999b-4099-e32f-ac446205708d"
      },
      "source": [
        "plays.isnull().sum()"
      ],
      "execution_count": null,
      "outputs": [
        {
          "output_type": "execute_result",
          "data": {
            "text/plain": [
              "gameId                        0\n",
              "playId                        0\n",
              "playDescription               0\n",
              "quarter                       0\n",
              "down                          0\n",
              "yardsToGo                     0\n",
              "possessionTeam                0\n",
              "playType                      0\n",
              "yardlineSide                254\n",
              "yardlineNumber                0\n",
              "offenseFormation            141\n",
              "personnelO                   29\n",
              "defendersInTheBox            62\n",
              "numberOfPassRushers         633\n",
              "personnelD                   29\n",
              "typeDropback                639\n",
              "preSnapVisitorScore         639\n",
              "preSnapHomeScore            639\n",
              "gameClock                   639\n",
              "absoluteYardlineNumber      639\n",
              "penaltyCodes              18033\n",
              "penaltyJerseyNumbers      18033\n",
              "passResult                    2\n",
              "offensePlayResult             0\n",
              "playResult                    0\n",
              "epa                           0\n",
              "isDefensivePI                 0\n",
              "dtype: int64"
            ]
          },
          "metadata": {
            "tags": []
          },
          "execution_count": 40
        }
      ]
    },
    {
      "cell_type": "code",
      "metadata": {
        "colab": {
          "base_uri": "https://localhost:8080/",
          "height": 279
        },
        "id": "dz5Nx-gfqqgE",
        "outputId": "cec8344b-db7f-4c7e-ecb5-8fe883f948bb"
      },
      "source": [
        "cnt(\"quarter\", plays)"
      ],
      "execution_count": null,
      "outputs": [
        {
          "output_type": "display_data",
          "data": {
            "image/png": "[encoded data removed]",
            "text/plain": [
              "<Figure size 432x288 with 1 Axes>"
            ]
          },
          "metadata": {
            "tags": [],
            "needs_background": "light"
          }
        }
      ]
    },
    {
      "cell_type": "code",
      "metadata": {
        "colab": {
          "base_uri": "https://localhost:8080/",
          "height": 279
        },
        "id": "L4NZ-1dUqqnQ",
        "outputId": "b6745db9-11f9-4fe3-a8c9-637fb954f8aa"
      },
      "source": [
        "cnt(\"down\", plays)"
      ],
      "execution_count": null,
      "outputs": [
        {
          "output_type": "display_data",
          "data": {
            "image/png": "[encoded data removed]",
            "text/plain": [
              "<Figure size 432x288 with 1 Axes>"
            ]
          },
          "metadata": {
            "tags": [],
            "needs_background": "light"
          }
        }
      ]
    },
    {
      "cell_type": "code",
      "metadata": {
        "colab": {
          "base_uri": "https://localhost:8080/",
          "height": 279
        },
        "id": "0aQNctRzqqu5",
        "outputId": "e3c6e191-3b55-41e8-c2e9-9f90b24eb3ba"
      },
      "source": [
        "cnt(\"yardsToGo\", plays)"
      ],
      "execution_count": null,
      "outputs": [
        {
          "output_type": "display_data",
          "data": {
            "image/png": "[encoded data removed]",
            "text/plain": [
              "<Figure size 432x288 with 1 Axes>"
            ]
          },
          "metadata": {
            "tags": [],
            "needs_background": "light"
          }
        }
      ]
    },
    {
      "cell_type": "code",
      "metadata": {
        "colab": {
          "base_uri": "https://localhost:8080/",
          "height": 279
        },
        "id": "HVbtHkVKquYo",
        "outputId": "e0efc01c-fc3f-4918-c903-ae35351c6719"
      },
      "source": [
        "cnt(\"possessionTeam\", plays)"
      ],
      "execution_count": null,
      "outputs": [
        {
          "output_type": "display_data",
          "data": {
            "image/png": "[encoded data removed]",
            "text/plain": [
              "<Figure size 432x288 with 1 Axes>"
            ]
          },
          "metadata": {
            "tags": [],
            "needs_background": "light"
          }
        }
      ]
    },
    {
      "cell_type": "code",
      "metadata": {
        "colab": {
          "base_uri": "https://localhost:8080/",
          "height": 280
        },
        "id": "FaDTFjYboRoY",
        "outputId": "0a19d79c-11cc-4f69-97ba-7fa2e12c212b"
      },
      "source": [
        "cnt(\"playType\", plays)"
      ],
      "execution_count": null,
      "outputs": [
        {
          "output_type": "display_data",
          "data": {
            "image/png": "[encoded data removed]",
            "text/plain": [
              "<Figure size 432x288 with 1 Axes>"
            ]
          },
          "metadata": {
            "tags": [],
            "needs_background": "light"
          }
        }
      ]
    },
    {
      "cell_type": "code",
      "metadata": {
        "colab": {
          "base_uri": "https://localhost:8080/",
          "height": 282
        },
        "id": "haxavnCVoRoZ",
        "outputId": "4cffa44b-8618-4f81-b3fa-3ed41651c6b1"
      },
      "source": [
        "cnt(\"yardlineSide\", plays)"
      ],
      "execution_count": null,
      "outputs": [
        {
          "output_type": "display_data",
          "data": {
            "image/png": "[encoded data removed]",
            "text/plain": [
              "<Figure size 432x288 with 1 Axes>"
            ]
          },
          "metadata": {
            "tags": [],
            "needs_background": "light"
          }
        }
      ]
    },
    {
      "cell_type": "code",
      "metadata": {
        "colab": {
          "base_uri": "https://localhost:8080/",
          "height": 279
        },
        "id": "ZbgfCKO7XglN",
        "outputId": "8f15e162-6544-437b-b598-73455278d1df"
      },
      "source": [
        "cnt(\"yardlineNumber\", plays)"
      ],
      "execution_count": null,
      "outputs": [
        {
          "output_type": "display_data",
          "data": {
            "image/png": "[encoded data removed]",
            "text/plain": [
              "<Figure size 432x288 with 1 Axes>"
            ]
          },
          "metadata": {
            "tags": [],
            "needs_background": "light"
          }
        }
      ]
    },
    {
      "cell_type": "code",
      "metadata": {
        "colab": {
          "base_uri": "https://localhost:8080/",
          "height": 280
        },
        "id": "mVv_egobXgnV",
        "outputId": "fd97b932-7bd5-48f1-bab2-e60004a7e414"
      },
      "source": [
        "cnt(\"offenseFormation\", plays)"
      ],
      "execution_count": null,
      "outputs": [
        {
          "output_type": "display_data",
          "data": {
            "image/png": "[encoded data removed]",
            "text/plain": [
              "<Figure size 432x288 with 1 Axes>"
            ]
          },
          "metadata": {
            "tags": [],
            "needs_background": "light"
          }
        }
      ]
    },
    {
      "cell_type": "code",
      "metadata": {
        "colab": {
          "base_uri": "https://localhost:8080/",
          "height": 279
        },
        "id": "vEXPsBwBrYzD",
        "outputId": "5ccbb673-2eab-490e-c609-bb7baf7aac1b"
      },
      "source": [
        "cnt(\"personnelO\", plays)"
      ],
      "execution_count": null,
      "outputs": [
        {
          "output_type": "display_data",
          "data": {
            "image/png": "[encoded data removed]",
            "text/plain": [
              "<Figure size 432x288 with 1 Axes>"
            ]
          },
          "metadata": {
            "tags": [],
            "needs_background": "light"
          }
        }
      ]
    },
    {
      "cell_type": "code",
      "metadata": {
        "id": "dTds4hGBr2y5"
      },
      "source": [
        "# Boxplot function\r\n",
        "def bxp(xname, df):\r\n",
        "    sns.boxplot(x=xname, data = df)"
      ],
      "execution_count": null,
      "outputs": []
    },
    {
      "cell_type": "code",
      "metadata": {
        "colab": {
          "base_uri": "https://localhost:8080/",
          "height": 279
        },
        "id": "MXAKVBN0rY70",
        "outputId": "275fd820-2f37-4c66-f7d8-b0b19ce80f7f"
      },
      "source": [
        "cnt(\"defendersInTheBox\", plays)"
      ],
      "execution_count": null,
      "outputs": [
        {
          "output_type": "display_data",
          "data": {
            "image/png": "[encoded data removed]",
            "text/plain": [
              "<Figure size 432x288 with 1 Axes>"
            ]
          },
          "metadata": {
            "tags": [],
            "needs_background": "light"
          }
        }
      ]
    },
    {
      "cell_type": "code",
      "metadata": {
        "colab": {
          "base_uri": "https://localhost:8080/",
          "height": 282
        },
        "id": "8-roodtbXgqE",
        "outputId": "cf367a0b-830f-41dc-f3fa-7eb6cc4eec0f"
      },
      "source": [
        "cnt(\"numberOfPassRushers\", plays)"
      ],
      "execution_count": null,
      "outputs": [
        {
          "output_type": "display_data",
          "data": {
            "image/png": "[encoded data removed]",
            "text/plain": [
              "<Figure size 432x288 with 1 Axes>"
            ]
          },
          "metadata": {
            "tags": [],
            "needs_background": "light"
          }
        }
      ]
    },
    {
      "cell_type": "code",
      "metadata": {
        "colab": {
          "base_uri": "https://localhost:8080/",
          "height": 280
        },
        "id": "7XAaCNn-pxC9",
        "outputId": "16a311e5-8f75-488f-871a-eac80d449447"
      },
      "source": [
        "cnt(\"typeDropback\", plays)"
      ],
      "execution_count": null,
      "outputs": [
        {
          "output_type": "display_data",
          "data": {
            "image/png": "[encoded data removed]",
            "text/plain": [
              "<Figure size 432x288 with 1 Axes>"
            ]
          },
          "metadata": {
            "tags": [],
            "needs_background": "light"
          }
        }
      ]
    },
    {
      "cell_type": "code",
      "metadata": {
        "colab": {
          "base_uri": "https://localhost:8080/",
          "height": 279
        },
        "id": "iHU7U_PDpxMe",
        "outputId": "87d24f45-8063-4118-cddf-4318fc6922e8"
      },
      "source": [
        "cnt(\"preSnapVisitorScore\", plays)"
      ],
      "execution_count": null,
      "outputs": [
        {
          "output_type": "display_data",
          "data": {
            "image/png": "[encoded data removed]",
            "text/plain": [
              "<Figure size 432x288 with 1 Axes>"
            ]
          },
          "metadata": {
            "tags": [],
            "needs_background": "light"
          }
        }
      ]
    },
    {
      "cell_type": "code",
      "metadata": {
        "colab": {
          "base_uri": "https://localhost:8080/",
          "height": 279
        },
        "id": "sCcPr0WPuGxS",
        "outputId": "0edfa34e-5898-4976-a34e-69c4a811a9a7"
      },
      "source": [
        "bxp(\"preSnapVisitorScore\", plays)"
      ],
      "execution_count": null,
      "outputs": [
        {
          "output_type": "display_data",
          "data": {
            "image/png": "[encoded data removed]",
            "text/plain": [
              "<Figure size 432x288 with 1 Axes>"
            ]
          },
          "metadata": {
            "tags": [],
            "needs_background": "light"
          }
        }
      ]
    },
    {
      "cell_type": "code",
      "metadata": {
        "colab": {
          "base_uri": "https://localhost:8080/",
          "height": 279
        },
        "id": "YN0-fG6bpxPX",
        "outputId": "e00f8336-28bd-473c-d7d2-d85f3c4c80a0"
      },
      "source": [
        "cnt(\"preSnapHomeScore\", plays)"
      ],
      "execution_count": null,
      "outputs": [
        {
          "output_type": "display_data",
          "data": {
            "image/png": "[encoded data removed]",
            "text/plain": [
              "<Figure size 432x288 with 1 Axes>"
            ]
          },
          "metadata": {
            "tags": [],
            "needs_background": "light"
          }
        }
      ]
    },
    {
      "cell_type": "code",
      "metadata": {
        "colab": {
          "base_uri": "https://localhost:8080/",
          "height": 279
        },
        "id": "Zi8sRihiuU42",
        "outputId": "94164287-ee4a-4237-ba0e-da679f4f4775"
      },
      "source": [
        "bxp(\"preSnapHomeScore\", plays)"
      ],
      "execution_count": null,
      "outputs": [
        {
          "output_type": "display_data",
          "data": {
            "image/png": "[encoded data removed]",
            "text/plain": [
              "<Figure size 432x288 with 1 Axes>"
            ]
          },
          "metadata": {
            "tags": [],
            "needs_background": "light"
          }
        }
      ]
    },
    {
      "cell_type": "code",
      "metadata": {
        "colab": {
          "base_uri": "https://localhost:8080/",
          "height": 279
        },
        "id": "6-EJ1-HIpxVB",
        "outputId": "639f2f06-df60-4e73-97be-28fc1253c6bb"
      },
      "source": [
        "cnt(\"absoluteYardlineNumber\", plays)"
      ],
      "execution_count": null,
      "outputs": [
        {
          "output_type": "display_data",
          "data": {
            "image/png": "[encoded data removed]",
            "text/plain": [
              "<Figure size 432x288 with 1 Axes>"
            ]
          },
          "metadata": {
            "tags": [],
            "needs_background": "light"
          }
        }
      ]
    },
    {
      "cell_type": "code",
      "metadata": {
        "colab": {
          "base_uri": "https://localhost:8080/",
          "height": 279
        },
        "id": "k8BckuaTuiMa",
        "outputId": "3ea695a1-e63a-4c86-da9c-ec3cdaf2b2c6"
      },
      "source": [
        "bxp(\"absoluteYardlineNumber\", plays)"
      ],
      "execution_count": null,
      "outputs": [
        {
          "output_type": "display_data",
          "data": {
            "image/png": "[encoded data removed]",
            "text/plain": [
              "<Figure size 432x288 with 1 Axes>"
            ]
          },
          "metadata": {
            "tags": [],
            "needs_background": "light"
          }
        }
      ]
    },
    {
      "cell_type": "code",
      "metadata": {
        "colab": {
          "base_uri": "https://localhost:8080/",
          "height": 280
        },
        "id": "Yoan_wxzpxjs",
        "outputId": "c616c21f-d764-4589-99ce-0f0d0433750d"
      },
      "source": [
        "cnt(\"penaltyCodes\", plays)"
      ],
      "execution_count": null,
      "outputs": [
        {
          "output_type": "display_data",
          "data": {
            "image/png": "[encoded data removed]",
            "text/plain": [
              "<Figure size 432x288 with 1 Axes>"
            ]
          },
          "metadata": {
            "tags": [],
            "needs_background": "light"
          }
        }
      ]
    },
    {
      "cell_type": "code",
      "metadata": {
        "colab": {
          "base_uri": "https://localhost:8080/",
          "height": 279
        },
        "id": "6qHGPk9RqewA",
        "outputId": "63d08324-f7e5-41c0-8e81-7e050d70266a"
      },
      "source": [
        "cnt(\"penaltyJerseyNumbers\", plays)"
      ],
      "execution_count": null,
      "outputs": [
        {
          "output_type": "display_data",
          "data": {
            "image/png": "[encoded data removed]",
            "text/plain": [
              "<Figure size 432x288 with 1 Axes>"
            ]
          },
          "metadata": {
            "tags": [],
            "needs_background": "light"
          }
        }
      ]
    },
    {
      "cell_type": "code",
      "metadata": {
        "colab": {
          "base_uri": "https://localhost:8080/",
          "height": 279
        },
        "id": "J3Ww89Ssqe3Y",
        "outputId": "0b7de06d-f503-468c-ca1f-39d4f2e4d46c"
      },
      "source": [
        "cnt(\"passResult\", plays)"
      ],
      "execution_count": null,
      "outputs": [
        {
          "output_type": "display_data",
          "data": {
            "image/png": "[encoded data removed]",
            "text/plain": [
              "<Figure size 432x288 with 1 Axes>"
            ]
          },
          "metadata": {
            "tags": [],
            "needs_background": "light"
          }
        }
      ]
    },
    {
      "cell_type": "code",
      "metadata": {
        "colab": {
          "base_uri": "https://localhost:8080/",
          "height": 279
        },
        "id": "FM7HPFyCqfKw",
        "outputId": "4d853faa-f670-4016-8e56-b1fad218c008"
      },
      "source": [
        "cnt(\"offensePlayResult\", plays)"
      ],
      "execution_count": null,
      "outputs": [
        {
          "output_type": "display_data",
          "data": {
            "image/png": "[encoded data removed]",
            "text/plain": [
              "<Figure size 432x288 with 1 Axes>"
            ]
          },
          "metadata": {
            "tags": [],
            "needs_background": "light"
          }
        }
      ]
    },
    {
      "cell_type": "code",
      "metadata": {
        "colab": {
          "base_uri": "https://localhost:8080/",
          "height": 279
        },
        "id": "Z8RgyOwlu-Sj",
        "outputId": "766e0c2c-213b-4ade-a41d-d218a28cc881"
      },
      "source": [
        "bxp(\"offensePlayResult\", plays)"
      ],
      "execution_count": null,
      "outputs": [
        {
          "output_type": "display_data",
          "data": {
            "image/png": "[encoded data removed]",
            "text/plain": [
              "<Figure size 432x288 with 1 Axes>"
            ]
          },
          "metadata": {
            "tags": [],
            "needs_background": "light"
          }
        }
      ]
    },
    {
      "cell_type": "code",
      "metadata": {
        "colab": {
          "base_uri": "https://localhost:8080/",
          "height": 279
        },
        "id": "Z7KiRAz-uxyU",
        "outputId": "772f4f83-c616-40ad-e403-0f8ed01ba072"
      },
      "source": [
        "cnt(\"playResult\", plays)"
      ],
      "execution_count": null,
      "outputs": [
        {
          "output_type": "display_data",
          "data": {
            "image/png": "[encoded data removed]",
            "text/plain": [
              "<Figure size 432x288 with 1 Axes>"
            ]
          },
          "metadata": {
            "tags": [],
            "needs_background": "light"
          }
        }
      ]
    },
    {
      "cell_type": "code",
      "metadata": {
        "colab": {
          "base_uri": "https://localhost:8080/",
          "height": 279
        },
        "id": "CpNa3efhvA-a",
        "outputId": "a762b265-8f23-4dd5-868f-26f092b30a1c"
      },
      "source": [
        "bxp(\"playResult\", plays)"
      ],
      "execution_count": null,
      "outputs": [
        {
          "output_type": "display_data",
          "data": {
            "image/png": "[encoded data removed]",
            "text/plain": [
              "<Figure size 432x288 with 1 Axes>"
            ]
          },
          "metadata": {
            "tags": [],
            "needs_background": "light"
          }
        }
      ]
    },
    {
      "cell_type": "markdown",
      "metadata": {
        "id": "usHuzY6-XbPd"
      },
      "source": [
        "**Weekly Data**"
      ]
    },
    {
      "cell_type": "code",
      "metadata": {
        "id": "pfHFaYaaRFjR",
        "colab": {
          "base_uri": "https://localhost:8080/",
          "height": 213
        },
        "outputId": "6bfba370-5ef6-4cae-85a9-0b1ad3840186"
      },
      "source": [
        "weekly_data.head(3)\r\n"
      ],
      "execution_count": null,
      "outputs": [
        {
          "output_type": "execute_result",
          "data": {
            "text/html": [
              "<div>\n",
              "<style scoped>\n",
              "    .dataframe tbody tr th:only-of-type {\n",
              "        vertical-align: middle;\n",
              "    }\n",
              "\n",
              "    .dataframe tbody tr th {\n",
              "        vertical-align: top;\n",
              "    }\n",
              "\n",
              "    .dataframe thead th {\n",
              "        text-align: right;\n",
              "    }\n",
              "</style>\n",
              "<table border=\"1\" class=\"dataframe\">\n",
              "  <thead>\n",
              "    <tr style=\"text-align: right;\">\n",
              "      <th></th>\n",
              "      <th>time</th>\n",
              "      <th>x</th>\n",
              "      <th>y</th>\n",
              "      <th>s</th>\n",
              "      <th>a</th>\n",
              "      <th>dis</th>\n",
              "      <th>o</th>\n",
              "      <th>dir</th>\n",
              "      <th>event</th>\n",
              "      <th>nflId</th>\n",
              "      <th>displayName</th>\n",
              "      <th>jerseyNumber</th>\n",
              "      <th>position</th>\n",
              "      <th>frameId</th>\n",
              "      <th>team</th>\n",
              "      <th>gameId</th>\n",
              "      <th>playId</th>\n",
              "      <th>playDirection</th>\n",
              "      <th>route</th>\n",
              "      <th>Week</th>\n",
              "    </tr>\n",
              "  </thead>\n",
              "  <tbody>\n",
              "    <tr>\n",
              "      <th>0</th>\n",
              "      <td>2018-09-07T01:07:14.599Z</td>\n",
              "      <td>91.73</td>\n",
              "      <td>26.67</td>\n",
              "      <td>0.00</td>\n",
              "      <td>0.01</td>\n",
              "      <td>0.02</td>\n",
              "      <td>289.57</td>\n",
              "      <td>240.93</td>\n",
              "      <td>None</td>\n",
              "      <td>310.0</td>\n",
              "      <td>Matt Ryan</td>\n",
              "      <td>2.0</td>\n",
              "      <td>QB</td>\n",
              "      <td>1</td>\n",
              "      <td>away</td>\n",
              "      <td>2018090600</td>\n",
              "      <td>75</td>\n",
              "      <td>left</td>\n",
              "      <td>None</td>\n",
              "      <td>1</td>\n",
              "    </tr>\n",
              "    <tr>\n",
              "      <th>1</th>\n",
              "      <td>2018-09-07T01:07:14.599Z</td>\n",
              "      <td>88.89</td>\n",
              "      <td>36.47</td>\n",
              "      <td>0.01</td>\n",
              "      <td>0.01</td>\n",
              "      <td>0.01</td>\n",
              "      <td>105.63</td>\n",
              "      <td>66.66</td>\n",
              "      <td>None</td>\n",
              "      <td>79848.0</td>\n",
              "      <td>Malcolm Jenkins</td>\n",
              "      <td>27.0</td>\n",
              "      <td>SS</td>\n",
              "      <td>1</td>\n",
              "      <td>home</td>\n",
              "      <td>2018090600</td>\n",
              "      <td>75</td>\n",
              "      <td>left</td>\n",
              "      <td>None</td>\n",
              "      <td>1</td>\n",
              "    </tr>\n",
              "    <tr>\n",
              "      <th>2</th>\n",
              "      <td>2018-09-07T01:07:14.599Z</td>\n",
              "      <td>91.35</td>\n",
              "      <td>44.16</td>\n",
              "      <td>0.02</td>\n",
              "      <td>0.03</td>\n",
              "      <td>0.01</td>\n",
              "      <td>290.45</td>\n",
              "      <td>16.86</td>\n",
              "      <td>None</td>\n",
              "      <td>2495454.0</td>\n",
              "      <td>Julio Jones</td>\n",
              "      <td>11.0</td>\n",
              "      <td>WR</td>\n",
              "      <td>1</td>\n",
              "      <td>away</td>\n",
              "      <td>2018090600</td>\n",
              "      <td>75</td>\n",
              "      <td>left</td>\n",
              "      <td>HITCH</td>\n",
              "      <td>1</td>\n",
              "    </tr>\n",
              "  </tbody>\n",
              "</table>\n",
              "</div>"
            ],
            "text/plain": [
              "                       time      x      y  ...  playDirection  route  Week\n",
              "0  2018-09-07T01:07:14.599Z  91.73  26.67  ...           left   None     1\n",
              "1  2018-09-07T01:07:14.599Z  88.89  36.47  ...           left   None     1\n",
              "2  2018-09-07T01:07:14.599Z  91.35  44.16  ...           left  HITCH     1\n",
              "\n",
              "[3 rows x 20 columns]"
            ]
          },
          "metadata": {
            "tags": []
          },
          "execution_count": 67
        }
      ]
    },
    {
      "cell_type": "code",
      "metadata": {
        "id": "d6KvCorhXhMo",
        "colab": {
          "base_uri": "https://localhost:8080/",
          "height": 213
        },
        "outputId": "6ab8bed1-6573-4325-b411-6b61278ea324"
      },
      "source": [
        "weekly_data.tail(3)\r\n"
      ],
      "execution_count": null,
      "outputs": [
        {
          "output_type": "execute_result",
          "data": {
            "text/html": [
              "<div>\n",
              "<style scoped>\n",
              "    .dataframe tbody tr th:only-of-type {\n",
              "        vertical-align: middle;\n",
              "    }\n",
              "\n",
              "    .dataframe tbody tr th {\n",
              "        vertical-align: top;\n",
              "    }\n",
              "\n",
              "    .dataframe thead th {\n",
              "        text-align: right;\n",
              "    }\n",
              "</style>\n",
              "<table border=\"1\" class=\"dataframe\">\n",
              "  <thead>\n",
              "    <tr style=\"text-align: right;\">\n",
              "      <th></th>\n",
              "      <th>time</th>\n",
              "      <th>x</th>\n",
              "      <th>y</th>\n",
              "      <th>s</th>\n",
              "      <th>a</th>\n",
              "      <th>dis</th>\n",
              "      <th>o</th>\n",
              "      <th>dir</th>\n",
              "      <th>event</th>\n",
              "      <th>nflId</th>\n",
              "      <th>displayName</th>\n",
              "      <th>jerseyNumber</th>\n",
              "      <th>position</th>\n",
              "      <th>frameId</th>\n",
              "      <th>team</th>\n",
              "      <th>gameId</th>\n",
              "      <th>playId</th>\n",
              "      <th>playDirection</th>\n",
              "      <th>route</th>\n",
              "      <th>Week</th>\n",
              "    </tr>\n",
              "  </thead>\n",
              "  <tbody>\n",
              "    <tr>\n",
              "      <th>1049262</th>\n",
              "      <td>2018-12-31T04:23:24.200Z</td>\n",
              "      <td>102.68</td>\n",
              "      <td>0.94</td>\n",
              "      <td>2.34</td>\n",
              "      <td>1.67</td>\n",
              "      <td>0.24</td>\n",
              "      <td>164.79</td>\n",
              "      <td>152.29</td>\n",
              "      <td>None</td>\n",
              "      <td>2560789.0</td>\n",
              "      <td>Darius Leonard</td>\n",
              "      <td>53.0</td>\n",
              "      <td>LB</td>\n",
              "      <td>102</td>\n",
              "      <td>away</td>\n",
              "      <td>2018123011</td>\n",
              "      <td>4261</td>\n",
              "      <td>left</td>\n",
              "      <td>None</td>\n",
              "      <td>17</td>\n",
              "    </tr>\n",
              "    <tr>\n",
              "      <th>1049263</th>\n",
              "      <td>2018-12-31T04:23:24.200Z</td>\n",
              "      <td>105.82</td>\n",
              "      <td>0.71</td>\n",
              "      <td>2.28</td>\n",
              "      <td>3.53</td>\n",
              "      <td>0.25</td>\n",
              "      <td>284.72</td>\n",
              "      <td>93.44</td>\n",
              "      <td>None</td>\n",
              "      <td>2561521.0</td>\n",
              "      <td>Cameron Batson</td>\n",
              "      <td>17.0</td>\n",
              "      <td>WR</td>\n",
              "      <td>102</td>\n",
              "      <td>home</td>\n",
              "      <td>2018123011</td>\n",
              "      <td>4261</td>\n",
              "      <td>left</td>\n",
              "      <td>OUT</td>\n",
              "      <td>17</td>\n",
              "    </tr>\n",
              "    <tr>\n",
              "      <th>1049264</th>\n",
              "      <td>2018-12-31T04:23:24.200Z</td>\n",
              "      <td>101.33</td>\n",
              "      <td>0.91</td>\n",
              "      <td>0.99</td>\n",
              "      <td>0.67</td>\n",
              "      <td>0.10</td>\n",
              "      <td>NaN</td>\n",
              "      <td>NaN</td>\n",
              "      <td>None</td>\n",
              "      <td>NaN</td>\n",
              "      <td>Football</td>\n",
              "      <td>NaN</td>\n",
              "      <td>None</td>\n",
              "      <td>102</td>\n",
              "      <td>football</td>\n",
              "      <td>2018123011</td>\n",
              "      <td>4261</td>\n",
              "      <td>left</td>\n",
              "      <td>None</td>\n",
              "      <td>17</td>\n",
              "    </tr>\n",
              "  </tbody>\n",
              "</table>\n",
              "</div>"
            ],
            "text/plain": [
              "                             time       x     y  ...  playDirection  route  Week\n",
              "1049262  2018-12-31T04:23:24.200Z  102.68  0.94  ...           left   None    17\n",
              "1049263  2018-12-31T04:23:24.200Z  105.82  0.71  ...           left    OUT    17\n",
              "1049264  2018-12-31T04:23:24.200Z  101.33  0.91  ...           left   None    17\n",
              "\n",
              "[3 rows x 20 columns]"
            ]
          },
          "metadata": {
            "tags": []
          },
          "execution_count": 68
        }
      ]
    },
    {
      "cell_type": "code",
      "metadata": {
        "id": "5VYsgFuNXhQ6",
        "colab": {
          "base_uri": "https://localhost:8080/"
        },
        "outputId": "001f30a4-1a17-48a1-c0e4-cb8f8d92d2a6"
      },
      "source": [
        "weekly_data.shape\r\n"
      ],
      "execution_count": null,
      "outputs": [
        {
          "output_type": "execute_result",
          "data": {
            "text/plain": [
              "(18309388, 20)"
            ]
          },
          "metadata": {
            "tags": []
          },
          "execution_count": 69
        }
      ]
    },
    {
      "cell_type": "code",
      "metadata": {
        "colab": {
          "base_uri": "https://localhost:8080/"
        },
        "id": "NlYvUxMXyPY8",
        "outputId": "9b0d4c25-fed8-429a-97dc-ef69147e6098"
      },
      "source": [
        "weekly_data.info()\r\n"
      ],
      "execution_count": null,
      "outputs": [
        {
          "output_type": "stream",
          "text": [
            "<class 'pandas.core.frame.DataFrame'>\n",
            "Int64Index: 18309388 entries, 0 to 1049264\n",
            "Data columns (total 20 columns):\n",
            " #   Column         Dtype  \n",
            "---  ------         -----  \n",
            " 0   time           object \n",
            " 1   x              float64\n",
            " 2   y              float64\n",
            " 3   s              float64\n",
            " 4   a              float64\n",
            " 5   dis            float64\n",
            " 6   o              float64\n",
            " 7   dir            float64\n",
            " 8   event          object \n",
            " 9   nflId          float64\n",
            " 10  displayName    object \n",
            " 11  jerseyNumber   float64\n",
            " 12  position       object \n",
            " 13  frameId        int64  \n",
            " 14  team           object \n",
            " 15  gameId         int64  \n",
            " 16  playId         int64  \n",
            " 17  playDirection  object \n",
            " 18  route          object \n",
            " 19  Week           int64  \n",
            "dtypes: float64(9), int64(4), object(7)\n",
            "memory usage: 2.9+ GB\n"
          ],
          "name": "stdout"
        }
      ]
    },
    {
      "cell_type": "code",
      "metadata": {
        "colab": {
          "base_uri": "https://localhost:8080/",
          "height": 314
        },
        "id": "ImRvHTTZyPcH",
        "outputId": "0906e32b-12bc-46e9-8081-3d6a0b11c867"
      },
      "source": [
        "weekly_data.describe()\r\n"
      ],
      "execution_count": null,
      "outputs": [
        {
          "output_type": "execute_result",
          "data": {
            "text/html": [
              "<div>\n",
              "<style scoped>\n",
              "    .dataframe tbody tr th:only-of-type {\n",
              "        vertical-align: middle;\n",
              "    }\n",
              "\n",
              "    .dataframe tbody tr th {\n",
              "        vertical-align: top;\n",
              "    }\n",
              "\n",
              "    .dataframe thead th {\n",
              "        text-align: right;\n",
              "    }\n",
              "</style>\n",
              "<table border=\"1\" class=\"dataframe\">\n",
              "  <thead>\n",
              "    <tr style=\"text-align: right;\">\n",
              "      <th></th>\n",
              "      <th>x</th>\n",
              "      <th>y</th>\n",
              "      <th>s</th>\n",
              "      <th>a</th>\n",
              "      <th>dis</th>\n",
              "      <th>o</th>\n",
              "      <th>dir</th>\n",
              "      <th>nflId</th>\n",
              "      <th>jerseyNumber</th>\n",
              "      <th>frameId</th>\n",
              "      <th>gameId</th>\n",
              "      <th>playId</th>\n",
              "      <th>Week</th>\n",
              "    </tr>\n",
              "  </thead>\n",
              "  <tbody>\n",
              "    <tr>\n",
              "      <th>count</th>\n",
              "      <td>1.830939e+07</td>\n",
              "      <td>1.830939e+07</td>\n",
              "      <td>1.830939e+07</td>\n",
              "      <td>1.830936e+07</td>\n",
              "      <td>1.830939e+07</td>\n",
              "      <td>1.706153e+07</td>\n",
              "      <td>1.706154e+07</td>\n",
              "      <td>1.706175e+07</td>\n",
              "      <td>1.706175e+07</td>\n",
              "      <td>1.830939e+07</td>\n",
              "      <td>1.830939e+07</td>\n",
              "      <td>1.830939e+07</td>\n",
              "      <td>1.830939e+07</td>\n",
              "    </tr>\n",
              "    <tr>\n",
              "      <th>mean</th>\n",
              "      <td>5.983316e+01</td>\n",
              "      <td>2.673458e+01</td>\n",
              "      <td>3.193072e+00</td>\n",
              "      <td>1.989004e+00</td>\n",
              "      <td>3.231398e-01</td>\n",
              "      <td>1.807472e+02</td>\n",
              "      <td>1.804816e+02</td>\n",
              "      <td>2.385370e+06</td>\n",
              "      <td>3.746064e+01</td>\n",
              "      <td>3.522510e+01</td>\n",
              "      <td>2.018107e+09</td>\n",
              "      <td>2.182959e+03</td>\n",
              "      <td>8.938368e+00</td>\n",
              "    </tr>\n",
              "    <tr>\n",
              "      <th>std</th>\n",
              "      <td>2.455653e+01</td>\n",
              "      <td>1.107525e+01</td>\n",
              "      <td>2.856562e+00</td>\n",
              "      <td>1.601185e+00</td>\n",
              "      <td>3.069610e-01</td>\n",
              "      <td>1.003506e+02</td>\n",
              "      <td>1.027847e+02</td>\n",
              "      <td>5.889573e+05</td>\n",
              "      <td>2.450876e+01</td>\n",
              "      <td>2.315383e+01</td>\n",
              "      <td>1.147367e+04</td>\n",
              "      <td>1.239005e+03</td>\n",
              "      <td>4.972874e+00</td>\n",
              "    </tr>\n",
              "    <tr>\n",
              "      <th>min</th>\n",
              "      <td>-9.290000e+00</td>\n",
              "      <td>-1.344000e+01</td>\n",
              "      <td>0.000000e+00</td>\n",
              "      <td>0.000000e+00</td>\n",
              "      <td>0.000000e+00</td>\n",
              "      <td>0.000000e+00</td>\n",
              "      <td>0.000000e+00</td>\n",
              "      <td>2.520000e+02</td>\n",
              "      <td>1.000000e+00</td>\n",
              "      <td>1.000000e+00</td>\n",
              "      <td>2.018091e+09</td>\n",
              "      <td>5.000000e+01</td>\n",
              "      <td>1.000000e+00</td>\n",
              "    </tr>\n",
              "    <tr>\n",
              "      <th>25%</th>\n",
              "      <td>4.128000e+01</td>\n",
              "      <td>1.911000e+01</td>\n",
              "      <td>8.700000e-01</td>\n",
              "      <td>7.300000e-01</td>\n",
              "      <td>9.000000e-02</td>\n",
              "      <td>9.112000e+01</td>\n",
              "      <td>9.112000e+01</td>\n",
              "      <td>2.533062e+06</td>\n",
              "      <td>2.000000e+01</td>\n",
              "      <td>1.700000e+01</td>\n",
              "      <td>2.018100e+09</td>\n",
              "      <td>1.135000e+03</td>\n",
              "      <td>4.000000e+00</td>\n",
              "    </tr>\n",
              "    <tr>\n",
              "      <th>50%</th>\n",
              "      <td>5.978000e+01</td>\n",
              "      <td>2.672000e+01</td>\n",
              "      <td>2.810000e+00</td>\n",
              "      <td>1.750000e+00</td>\n",
              "      <td>2.800000e-01</td>\n",
              "      <td>1.793600e+02</td>\n",
              "      <td>1.802100e+02</td>\n",
              "      <td>2.552430e+06</td>\n",
              "      <td>2.900000e+01</td>\n",
              "      <td>3.300000e+01</td>\n",
              "      <td>2.018110e+09</td>\n",
              "      <td>2.177000e+03</td>\n",
              "      <td>9.000000e+00</td>\n",
              "    </tr>\n",
              "    <tr>\n",
              "      <th>75%</th>\n",
              "      <td>7.829000e+01</td>\n",
              "      <td>3.438000e+01</td>\n",
              "      <td>4.940000e+00</td>\n",
              "      <td>2.940000e+00</td>\n",
              "      <td>4.900000e-01</td>\n",
              "      <td>2.704000e+02</td>\n",
              "      <td>2.704800e+02</td>\n",
              "      <td>2.557972e+06</td>\n",
              "      <td>5.300000e+01</td>\n",
              "      <td>5.000000e+01</td>\n",
              "      <td>2.018120e+09</td>\n",
              "      <td>3.212000e+03</td>\n",
              "      <td>1.300000e+01</td>\n",
              "    </tr>\n",
              "    <tr>\n",
              "      <th>max</th>\n",
              "      <td>1.300100e+02</td>\n",
              "      <td>6.874000e+01</td>\n",
              "      <td>4.274000e+01</td>\n",
              "      <td>7.015000e+01</td>\n",
              "      <td>1.269000e+01</td>\n",
              "      <td>3.600000e+02</td>\n",
              "      <td>3.600000e+02</td>\n",
              "      <td>2.561671e+06</td>\n",
              "      <td>9.900000e+01</td>\n",
              "      <td>2.690000e+02</td>\n",
              "      <td>2.018123e+09</td>\n",
              "      <td>5.661000e+03</td>\n",
              "      <td>1.700000e+01</td>\n",
              "    </tr>\n",
              "  </tbody>\n",
              "</table>\n",
              "</div>"
            ],
            "text/plain": [
              "                  x             y  ...        playId          Week\n",
              "count  1.830939e+07  1.830939e+07  ...  1.830939e+07  1.830939e+07\n",
              "mean   5.983316e+01  2.673458e+01  ...  2.182959e+03  8.938368e+00\n",
              "std    2.455653e+01  1.107525e+01  ...  1.239005e+03  4.972874e+00\n",
              "min   -9.290000e+00 -1.344000e+01  ...  5.000000e+01  1.000000e+00\n",
              "25%    4.128000e+01  1.911000e+01  ...  1.135000e+03  4.000000e+00\n",
              "50%    5.978000e+01  2.672000e+01  ...  2.177000e+03  9.000000e+00\n",
              "75%    7.829000e+01  3.438000e+01  ...  3.212000e+03  1.300000e+01\n",
              "max    1.300100e+02  6.874000e+01  ...  5.661000e+03  1.700000e+01\n",
              "\n",
              "[8 rows x 13 columns]"
            ]
          },
          "metadata": {
            "tags": []
          },
          "execution_count": 71
        }
      ]
    },
    {
      "cell_type": "code",
      "metadata": {
        "colab": {
          "base_uri": "https://localhost:8080/",
          "height": 279
        },
        "id": "y4g6qkgyyPjZ",
        "outputId": "b75988f4-a38b-4a22-d308-f6294dc46262"
      },
      "source": [
        "bxp('x', weekly_data)\r\n"
      ],
      "execution_count": null,
      "outputs": [
        {
          "output_type": "display_data",
          "data": {
            "image/png": "[encoded data removed]",
            "text/plain": [
              "<Figure size 432x288 with 1 Axes>"
            ]
          },
          "metadata": {
            "tags": [],
            "needs_background": "light"
          }
        }
      ]
    },
    {
      "cell_type": "code",
      "metadata": {
        "colab": {
          "base_uri": "https://localhost:8080/",
          "height": 279
        },
        "id": "QyvxO2hWyPsu",
        "outputId": "e59c274f-3dd0-4f38-f309-b7834d4c5541"
      },
      "source": [
        "bxp('y', weekly_data)\r\n"
      ],
      "execution_count": null,
      "outputs": [
        {
          "output_type": "display_data",
          "data": {
            "image/png": "[encoded data removed]",
            "text/plain": [
              "<Figure size 432x288 with 1 Axes>"
            ]
          },
          "metadata": {
            "tags": [],
            "needs_background": "light"
          }
        }
      ]
    },
    {
      "cell_type": "code",
      "metadata": {
        "colab": {
          "base_uri": "https://localhost:8080/",
          "height": 279
        },
        "id": "VKEh4fdQyPxi",
        "outputId": "b9e78212-550a-46da-c32f-4a4083dadbc3"
      },
      "source": [
        "bxp('s', weekly_data)\r\n"
      ],
      "execution_count": null,
      "outputs": [
        {
          "output_type": "display_data",
          "data": {
            "image/png": "[encoded data removed]",
            "text/plain": [
              "<Figure size 432x288 with 1 Axes>"
            ]
          },
          "metadata": {
            "tags": [],
            "needs_background": "light"
          }
        }
      ]
    },
    {
      "cell_type": "code",
      "metadata": {
        "colab": {
          "base_uri": "https://localhost:8080/",
          "height": 279
        },
        "id": "cZiJRaw_yP1-",
        "outputId": "6e1a1e3b-00e6-45a6-ce0e-95ebf545c7ce"
      },
      "source": [
        "bxp('a', weekly_data)\r\n"
      ],
      "execution_count": null,
      "outputs": [
        {
          "output_type": "display_data",
          "data": {
            "image/png": "[encoded data removed]",
            "text/plain": [
              "<Figure size 432x288 with 1 Axes>"
            ]
          },
          "metadata": {
            "tags": [],
            "needs_background": "light"
          }
        }
      ]
    },
    {
      "cell_type": "code",
      "metadata": {
        "colab": {
          "base_uri": "https://localhost:8080/",
          "height": 279
        },
        "id": "sIn7-9Y9yP6A",
        "outputId": "4c615e72-fc16-4545-82f4-7c13089361bd"
      },
      "source": [
        "bxp('dis', weekly_data)\r\n"
      ],
      "execution_count": null,
      "outputs": [
        {
          "output_type": "display_data",
          "data": {
            "image/png": "[encoded data removed]",
            "text/plain": [
              "<Figure size 432x288 with 1 Axes>"
            ]
          },
          "metadata": {
            "tags": [],
            "needs_background": "light"
          }
        }
      ]
    },
    {
      "cell_type": "code",
      "metadata": {
        "colab": {
          "base_uri": "https://localhost:8080/",
          "height": 279
        },
        "id": "4N0ZrN08ye6T",
        "outputId": "52c30b52-c78a-4973-c923-5f8b82b72fad"
      },
      "source": [
        "bxp('o', weekly_data)\r\n"
      ],
      "execution_count": null,
      "outputs": [
        {
          "output_type": "display_data",
          "data": {
            "image/png": "[encoded data removed]",
            "text/plain": [
              "<Figure size 432x288 with 1 Axes>"
            ]
          },
          "metadata": {
            "tags": [],
            "needs_background": "light"
          }
        }
      ]
    },
    {
      "cell_type": "code",
      "metadata": {
        "colab": {
          "base_uri": "https://localhost:8080/",
          "height": 279
        },
        "id": "gRsR17Raye9t",
        "outputId": "2e6cd273-8a4b-41ba-886b-1c5189347489"
      },
      "source": [
        "bxp('dir', weekly_data)\r\n"
      ],
      "execution_count": null,
      "outputs": [
        {
          "output_type": "display_data",
          "data": {
            "image/png": "[encoded data removed]",
            "text/plain": [
              "<Figure size 432x288 with 1 Axes>"
            ]
          },
          "metadata": {
            "tags": [],
            "needs_background": "light"
          }
        }
      ]
    },
    {
      "cell_type": "code",
      "metadata": {
        "colab": {
          "base_uri": "https://localhost:8080/",
          "height": 291
        },
        "id": "3oTXEHSwyfBC",
        "outputId": "9dd4faa5-14fd-4822-dca0-e18ce3bb28af"
      },
      "source": [
        "cnt('event', weekly_data)\r\n"
      ],
      "execution_count": null,
      "outputs": [
        {
          "output_type": "display_data",
          "data": {
            "image/png": "[encoded data removed]",
            "text/plain": [
              "<Figure size 432x288 with 1 Axes>"
            ]
          },
          "metadata": {
            "tags": [],
            "needs_background": "light"
          }
        }
      ]
    },
    {
      "cell_type": "code",
      "metadata": {
        "colab": {
          "base_uri": "https://localhost:8080/"
        },
        "id": "de4l-HNHzYX6",
        "outputId": "8e409064-01be-46f5-d2e1-ab0e92677954"
      },
      "source": [
        "weekly_data.event.value_counts()"
      ],
      "execution_count": null,
      "outputs": [
        {
          "output_type": "execute_result",
          "data": {
            "text/plain": [
              "None                         16885077\n",
              "ball_snap                      282543\n",
              "pass_forward                   260480\n",
              "pass_arrived                   213984\n",
              "pass_outcome_caught            160114\n",
              "tackle                         125737\n",
              "first_contact                  108879\n",
              "pass_outcome_incomplete         88999\n",
              "play_action                     48497\n",
              "out_of_bounds                   36458\n",
              "line_set                        24112\n",
              "qb_sack                         16478\n",
              "man_in_motion                    8907\n",
              "shift                            7621\n",
              "touchdown                        6864\n",
              "pass_outcome_touchdown           6197\n",
              "pass_outcome_interception        6154\n",
              "pass_tipped                      5276\n",
              "fumble                           3263\n",
              "qb_strip_sack                    2459\n",
              "fumble_defense_recovered         2336\n",
              "handoff                          1889\n",
              "fumble_offense_recovered         1771\n",
              "pass_shovel                      1507\n",
              "qb_spike                         1108\n",
              "lateral                           554\n",
              "run                               487\n",
              "touchback                         444\n",
              "pass_lateral                      247\n",
              "punt_fake                         241\n",
              "run_pass_option                   185\n",
              "penalty_flag                      161\n",
              "huddle_break_offense              105\n",
              "huddle_start_offense               90\n",
              "field_goal_fake                    49\n",
              "penalty_accepted                   45\n",
              "field_goal_blocked                 15\n",
              "safety                             15\n",
              "snap_direct                        15\n",
              "timeout_home                       14\n",
              "field_goal_play                    11\n",
              "Name: event, dtype: int64"
            ]
          },
          "metadata": {
            "tags": []
          },
          "execution_count": 86
        }
      ]
    },
    {
      "cell_type": "code",
      "metadata": {
        "colab": {
          "base_uri": "https://localhost:8080/",
          "height": 279
        },
        "id": "OP8-KhERyfET",
        "outputId": "dbd4289a-35bf-4674-8941-4d2702a0fcea"
      },
      "source": [
        "cnt('jerseyNumber', weekly_data)\r\n"
      ],
      "execution_count": null,
      "outputs": [
        {
          "output_type": "display_data",
          "data": {
            "image/png": "[encoded data removed]",
            "text/plain": [
              "<Figure size 432x288 with 1 Axes>"
            ]
          },
          "metadata": {
            "tags": [],
            "needs_background": "light"
          }
        }
      ]
    },
    {
      "cell_type": "code",
      "metadata": {
        "colab": {
          "base_uri": "https://localhost:8080/"
        },
        "id": "Sz9xE_1v0Xv-",
        "outputId": "9e6b95ae-22ef-4780-e504-f2452b1ea49d"
      },
      "source": [
        "weekly_data.jerseyNumber.value_counts()"
      ],
      "execution_count": null,
      "outputs": [
        {
          "output_type": "execute_result",
          "data": {
            "text/plain": [
              "23.0    615183\n",
              "21.0    577118\n",
              "24.0    563134\n",
              "20.0    486348\n",
              "25.0    467408\n",
              "         ...  \n",
              "97.0      4018\n",
              "92.0       810\n",
              "69.0       207\n",
              "70.0       127\n",
              "72.0        88\n",
              "Name: jerseyNumber, Length: 82, dtype: int64"
            ]
          },
          "metadata": {
            "tags": []
          },
          "execution_count": 87
        }
      ]
    },
    {
      "cell_type": "code",
      "metadata": {
        "colab": {
          "base_uri": "https://localhost:8080/",
          "height": 279
        },
        "id": "ZI-7Qj-hyfHV",
        "outputId": "cefce0f3-1cb2-4022-e608-dade69c39980"
      },
      "source": [
        "bxp('jerseyNumber', weekly_data)\r\n"
      ],
      "execution_count": null,
      "outputs": [
        {
          "output_type": "display_data",
          "data": {
            "image/png": "[encoded data removed]",
            "text/plain": [
              "<Figure size 432x288 with 1 Axes>"
            ]
          },
          "metadata": {
            "tags": [],
            "needs_background": "light"
          }
        }
      ]
    },
    {
      "cell_type": "code",
      "metadata": {
        "colab": {
          "base_uri": "https://localhost:8080/",
          "height": 290
        },
        "id": "eIeomcoRymey",
        "outputId": "3658ce75-440d-4c74-9ff4-e87a21e602b7"
      },
      "source": [
        "cnt('position', weekly_data)\r\n"
      ],
      "execution_count": null,
      "outputs": [
        {
          "output_type": "display_data",
          "data": {
            "image/png": "[encoded data removed]",
            "text/plain": [
              "<Figure size 432x288 with 1 Axes>"
            ]
          },
          "metadata": {
            "tags": [],
            "needs_background": "light"
          }
        }
      ]
    },
    {
      "cell_type": "code",
      "metadata": {
        "colab": {
          "base_uri": "https://localhost:8080/",
          "height": 290
        },
        "id": "HTjn_CLbymh0",
        "outputId": "1a607add-19ed-43b9-a23d-e3366a9d3643"
      },
      "source": [
        "cnt('team', weekly_data)\r\n"
      ],
      "execution_count": null,
      "outputs": [
        {
          "output_type": "display_data",
          "data": {
            "image/png": "[encoded data removed]",
            "text/plain": [
              "<Figure size 432x288 with 1 Axes>"
            ]
          },
          "metadata": {
            "tags": [],
            "needs_background": "light"
          }
        }
      ]
    },
    {
      "cell_type": "code",
      "metadata": {
        "colab": {
          "base_uri": "https://localhost:8080/",
          "height": 290
        },
        "id": "w8kjglGHymls",
        "outputId": "b4aa2e8f-fd88-492e-fbf9-59c25e36a704"
      },
      "source": [
        "cnt('playDirection', weekly_data)\r\n"
      ],
      "execution_count": null,
      "outputs": [
        {
          "output_type": "display_data",
          "data": {
            "image/png": "[encoded data removed]",
            "text/plain": [
              "<Figure size 432x288 with 1 Axes>"
            ]
          },
          "metadata": {
            "tags": [],
            "needs_background": "light"
          }
        }
      ]
    },
    {
      "cell_type": "code",
      "metadata": {
        "colab": {
          "base_uri": "https://localhost:8080/",
          "height": 290
        },
        "id": "BOk0qjMDymqo",
        "outputId": "6500d830-7f95-404f-cb55-5f5007625a32"
      },
      "source": [
        "cnt('route', weekly_data)\r\n"
      ],
      "execution_count": null,
      "outputs": [
        {
          "output_type": "display_data",
          "data": {
            "image/png": "[encoded data removed]",
            "text/plain": [
              "<Figure size 432x288 with 1 Axes>"
            ]
          },
          "metadata": {
            "tags": [],
            "needs_background": "light"
          }
        }
      ]
    },
    {
      "cell_type": "code",
      "metadata": {
        "colab": {
          "base_uri": "https://localhost:8080/"
        },
        "id": "FPPoh9og0jMG",
        "outputId": "93f8fa0d-d785-4030-c54e-23d4061ff4c8"
      },
      "source": [
        "weekly_data.route.value_counts()"
      ],
      "execution_count": null,
      "outputs": [
        {
          "output_type": "execute_result",
          "data": {
            "text/plain": [
              "GO           976400\n",
              "HITCH        759817\n",
              "FLAT         739672\n",
              "OUT          517982\n",
              "CROSS        515964\n",
              "IN           372743\n",
              "POST         353219\n",
              "SLANT        248950\n",
              "SCREEN       206411\n",
              "ANGLE        196522\n",
              "CORNER       194105\n",
              "WHEEL         29102\n",
              "undefined      7068\n",
              "Name: route, dtype: int64"
            ]
          },
          "metadata": {
            "tags": []
          },
          "execution_count": 88
        }
      ]
    }
  ]
}